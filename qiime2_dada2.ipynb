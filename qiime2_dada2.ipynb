{
 "cells": [
  {
   "cell_type": "code",
   "execution_count": 8,
   "metadata": {},
   "outputs": [
    {
     "name": "stdout",
     "output_type": "stream",
     "text": [
      "Running external command line application. This may print messages to stdout and/or stderr.\n",
      "The commands to be run are below. These commands cannot be manually re-run as they will depend on temporary files that no longer exist.\n",
      "\n",
      "Command: cutadapt --cores 8 --error-rate 0.1 --times 1 --overlap 3 -o /var/folders/k7/wbr70tj56_n4y6h66kszvm2r0000gq/T/q2-CasavaOneEightSingleLanePerSampleDirFmt-hezu__sd/BS-1_0_L001_R1_001.fastq.gz -p /var/folders/k7/wbr70tj56_n4y6h66kszvm2r0000gq/T/q2-CasavaOneEightSingleLanePerSampleDirFmt-hezu__sd/BS-1_1_L001_R2_001.fastq.gz --front AATGATACGGCGACCACCGAGATCTACACGCTNNNNNNNNNNNNTATGGTAATTGTGTGYCAGCMGCCGCGGTAA -G CAAGCAGAAGACGGCATACGAGATAGTCAGCCAGCCGGACTACNVGGGTWTCTAAT /var/folders/k7/wbr70tj56_n4y6h66kszvm2r0000gq/T/qiime2-archive-vbrtelja/b057d45e-ed38-4056-88e8-a45fd5ccb7d7/data/BS-1_0_L001_R1_001.fastq.gz /var/folders/k7/wbr70tj56_n4y6h66kszvm2r0000gq/T/qiime2-archive-vbrtelja/b057d45e-ed38-4056-88e8-a45fd5ccb7d7/data/BS-1_1_L001_R2_001.fastq.gz\n",
      "\n",
      "\n",
      "Command: cutadapt --cores 8 --error-rate 0.1 --times 1 --overlap 3 -o /var/folders/k7/wbr70tj56_n4y6h66kszvm2r0000gq/T/q2-CasavaOneEightSingleLanePerSampleDirFmt-hezu__sd/BS-10_2_L001_R1_001.fastq.gz -p /var/folders/k7/wbr70tj56_n4y6h66kszvm2r0000gq/T/q2-CasavaOneEightSingleLanePerSampleDirFmt-hezu__sd/BS-10_3_L001_R2_001.fastq.gz --front AATGATACGGCGACCACCGAGATCTACACGCTNNNNNNNNNNNNTATGGTAATTGTGTGYCAGCMGCCGCGGTAA -G CAAGCAGAAGACGGCATACGAGATAGTCAGCCAGCCGGACTACNVGGGTWTCTAAT /var/folders/k7/wbr70tj56_n4y6h66kszvm2r0000gq/T/qiime2-archive-vbrtelja/b057d45e-ed38-4056-88e8-a45fd5ccb7d7/data/BS-10_2_L001_R1_001.fastq.gz /var/folders/k7/wbr70tj56_n4y6h66kszvm2r0000gq/T/qiime2-archive-vbrtelja/b057d45e-ed38-4056-88e8-a45fd5ccb7d7/data/BS-10_3_L001_R2_001.fastq.gz\n",
      "\n",
      "\n",
      "Command: cutadapt --cores 8 --error-rate 0.1 --times 1 --overlap 3 -o /var/folders/k7/wbr70tj56_n4y6h66kszvm2r0000gq/T/q2-CasavaOneEightSingleLanePerSampleDirFmt-hezu__sd/BS-11_4_L001_R1_001.fastq.gz -p /var/folders/k7/wbr70tj56_n4y6h66kszvm2r0000gq/T/q2-CasavaOneEightSingleLanePerSampleDirFmt-hezu__sd/BS-11_5_L001_R2_001.fastq.gz --front AATGATACGGCGACCACCGAGATCTACACGCTNNNNNNNNNNNNTATGGTAATTGTGTGYCAGCMGCCGCGGTAA -G CAAGCAGAAGACGGCATACGAGATAGTCAGCCAGCCGGACTACNVGGGTWTCTAAT /var/folders/k7/wbr70tj56_n4y6h66kszvm2r0000gq/T/qiime2-archive-vbrtelja/b057d45e-ed38-4056-88e8-a45fd5ccb7d7/data/BS-11_4_L001_R1_001.fastq.gz /var/folders/k7/wbr70tj56_n4y6h66kszvm2r0000gq/T/qiime2-archive-vbrtelja/b057d45e-ed38-4056-88e8-a45fd5ccb7d7/data/BS-11_5_L001_R2_001.fastq.gz\n",
      "\n",
      "\n",
      "Command: cutadapt --cores 8 --error-rate 0.1 --times 1 --overlap 3 -o /var/folders/k7/wbr70tj56_n4y6h66kszvm2r0000gq/T/q2-CasavaOneEightSingleLanePerSampleDirFmt-hezu__sd/BS-12_6_L001_R1_001.fastq.gz -p /var/folders/k7/wbr70tj56_n4y6h66kszvm2r0000gq/T/q2-CasavaOneEightSingleLanePerSampleDirFmt-hezu__sd/BS-12_7_L001_R2_001.fastq.gz --front AATGATACGGCGACCACCGAGATCTACACGCTNNNNNNNNNNNNTATGGTAATTGTGTGYCAGCMGCCGCGGTAA -G CAAGCAGAAGACGGCATACGAGATAGTCAGCCAGCCGGACTACNVGGGTWTCTAAT /var/folders/k7/wbr70tj56_n4y6h66kszvm2r0000gq/T/qiime2-archive-vbrtelja/b057d45e-ed38-4056-88e8-a45fd5ccb7d7/data/BS-12_6_L001_R1_001.fastq.gz /var/folders/k7/wbr70tj56_n4y6h66kszvm2r0000gq/T/qiime2-archive-vbrtelja/b057d45e-ed38-4056-88e8-a45fd5ccb7d7/data/BS-12_7_L001_R2_001.fastq.gz\n",
      "\n",
      "\n",
      "Command: cutadapt --cores 8 --error-rate 0.1 --times 1 --overlap 3 -o /var/folders/k7/wbr70tj56_n4y6h66kszvm2r0000gq/T/q2-CasavaOneEightSingleLanePerSampleDirFmt-hezu__sd/BS-2_8_L001_R1_001.fastq.gz -p /var/folders/k7/wbr70tj56_n4y6h66kszvm2r0000gq/T/q2-CasavaOneEightSingleLanePerSampleDirFmt-hezu__sd/BS-2_9_L001_R2_001.fastq.gz --front AATGATACGGCGACCACCGAGATCTACACGCTNNNNNNNNNNNNTATGGTAATTGTGTGYCAGCMGCCGCGGTAA -G CAAGCAGAAGACGGCATACGAGATAGTCAGCCAGCCGGACTACNVGGGTWTCTAAT /var/folders/k7/wbr70tj56_n4y6h66kszvm2r0000gq/T/qiime2-archive-vbrtelja/b057d45e-ed38-4056-88e8-a45fd5ccb7d7/data/BS-2_8_L001_R1_001.fastq.gz /var/folders/k7/wbr70tj56_n4y6h66kszvm2r0000gq/T/qiime2-archive-vbrtelja/b057d45e-ed38-4056-88e8-a45fd5ccb7d7/data/BS-2_9_L001_R2_001.fastq.gz\n",
      "\n",
      "\n",
      "Command: cutadapt --cores 8 --error-rate 0.1 --times 1 --overlap 3 -o /var/folders/k7/wbr70tj56_n4y6h66kszvm2r0000gq/T/q2-CasavaOneEightSingleLanePerSampleDirFmt-hezu__sd/BS-3_10_L001_R1_001.fastq.gz -p /var/folders/k7/wbr70tj56_n4y6h66kszvm2r0000gq/T/q2-CasavaOneEightSingleLanePerSampleDirFmt-hezu__sd/BS-3_11_L001_R2_001.fastq.gz --front AATGATACGGCGACCACCGAGATCTACACGCTNNNNNNNNNNNNTATGGTAATTGTGTGYCAGCMGCCGCGGTAA -G CAAGCAGAAGACGGCATACGAGATAGTCAGCCAGCCGGACTACNVGGGTWTCTAAT /var/folders/k7/wbr70tj56_n4y6h66kszvm2r0000gq/T/qiime2-archive-vbrtelja/b057d45e-ed38-4056-88e8-a45fd5ccb7d7/data/BS-3_10_L001_R1_001.fastq.gz /var/folders/k7/wbr70tj56_n4y6h66kszvm2r0000gq/T/qiime2-archive-vbrtelja/b057d45e-ed38-4056-88e8-a45fd5ccb7d7/data/BS-3_11_L001_R2_001.fastq.gz\n",
      "\n",
      "\n",
      "Command: cutadapt --cores 8 --error-rate 0.1 --times 1 --overlap 3 -o /var/folders/k7/wbr70tj56_n4y6h66kszvm2r0000gq/T/q2-CasavaOneEightSingleLanePerSampleDirFmt-hezu__sd/BS-4_12_L001_R1_001.fastq.gz -p /var/folders/k7/wbr70tj56_n4y6h66kszvm2r0000gq/T/q2-CasavaOneEightSingleLanePerSampleDirFmt-hezu__sd/BS-4_13_L001_R2_001.fastq.gz --front AATGATACGGCGACCACCGAGATCTACACGCTNNNNNNNNNNNNTATGGTAATTGTGTGYCAGCMGCCGCGGTAA -G CAAGCAGAAGACGGCATACGAGATAGTCAGCCAGCCGGACTACNVGGGTWTCTAAT /var/folders/k7/wbr70tj56_n4y6h66kszvm2r0000gq/T/qiime2-archive-vbrtelja/b057d45e-ed38-4056-88e8-a45fd5ccb7d7/data/BS-4_12_L001_R1_001.fastq.gz /var/folders/k7/wbr70tj56_n4y6h66kszvm2r0000gq/T/qiime2-archive-vbrtelja/b057d45e-ed38-4056-88e8-a45fd5ccb7d7/data/BS-4_13_L001_R2_001.fastq.gz\n",
      "\n",
      "\n",
      "Command: cutadapt --cores 8 --error-rate 0.1 --times 1 --overlap 3 -o /var/folders/k7/wbr70tj56_n4y6h66kszvm2r0000gq/T/q2-CasavaOneEightSingleLanePerSampleDirFmt-hezu__sd/BS-5_14_L001_R1_001.fastq.gz -p /var/folders/k7/wbr70tj56_n4y6h66kszvm2r0000gq/T/q2-CasavaOneEightSingleLanePerSampleDirFmt-hezu__sd/BS-5_15_L001_R2_001.fastq.gz --front AATGATACGGCGACCACCGAGATCTACACGCTNNNNNNNNNNNNTATGGTAATTGTGTGYCAGCMGCCGCGGTAA -G CAAGCAGAAGACGGCATACGAGATAGTCAGCCAGCCGGACTACNVGGGTWTCTAAT /var/folders/k7/wbr70tj56_n4y6h66kszvm2r0000gq/T/qiime2-archive-vbrtelja/b057d45e-ed38-4056-88e8-a45fd5ccb7d7/data/BS-5_14_L001_R1_001.fastq.gz /var/folders/k7/wbr70tj56_n4y6h66kszvm2r0000gq/T/qiime2-archive-vbrtelja/b057d45e-ed38-4056-88e8-a45fd5ccb7d7/data/BS-5_15_L001_R2_001.fastq.gz\n",
      "\n",
      "\n",
      "Command: cutadapt --cores 8 --error-rate 0.1 --times 1 --overlap 3 -o /var/folders/k7/wbr70tj56_n4y6h66kszvm2r0000gq/T/q2-CasavaOneEightSingleLanePerSampleDirFmt-hezu__sd/BS-6_16_L001_R1_001.fastq.gz -p /var/folders/k7/wbr70tj56_n4y6h66kszvm2r0000gq/T/q2-CasavaOneEightSingleLanePerSampleDirFmt-hezu__sd/BS-6_17_L001_R2_001.fastq.gz --front AATGATACGGCGACCACCGAGATCTACACGCTNNNNNNNNNNNNTATGGTAATTGTGTGYCAGCMGCCGCGGTAA -G CAAGCAGAAGACGGCATACGAGATAGTCAGCCAGCCGGACTACNVGGGTWTCTAAT /var/folders/k7/wbr70tj56_n4y6h66kszvm2r0000gq/T/qiime2-archive-vbrtelja/b057d45e-ed38-4056-88e8-a45fd5ccb7d7/data/BS-6_16_L001_R1_001.fastq.gz /var/folders/k7/wbr70tj56_n4y6h66kszvm2r0000gq/T/qiime2-archive-vbrtelja/b057d45e-ed38-4056-88e8-a45fd5ccb7d7/data/BS-6_17_L001_R2_001.fastq.gz\n",
      "\n",
      "\n",
      "Command: cutadapt --cores 8 --error-rate 0.1 --times 1 --overlap 3 -o /var/folders/k7/wbr70tj56_n4y6h66kszvm2r0000gq/T/q2-CasavaOneEightSingleLanePerSampleDirFmt-hezu__sd/BS-7_18_L001_R1_001.fastq.gz -p /var/folders/k7/wbr70tj56_n4y6h66kszvm2r0000gq/T/q2-CasavaOneEightSingleLanePerSampleDirFmt-hezu__sd/BS-7_19_L001_R2_001.fastq.gz --front AATGATACGGCGACCACCGAGATCTACACGCTNNNNNNNNNNNNTATGGTAATTGTGTGYCAGCMGCCGCGGTAA -G CAAGCAGAAGACGGCATACGAGATAGTCAGCCAGCCGGACTACNVGGGTWTCTAAT /var/folders/k7/wbr70tj56_n4y6h66kszvm2r0000gq/T/qiime2-archive-vbrtelja/b057d45e-ed38-4056-88e8-a45fd5ccb7d7/data/BS-7_18_L001_R1_001.fastq.gz /var/folders/k7/wbr70tj56_n4y6h66kszvm2r0000gq/T/qiime2-archive-vbrtelja/b057d45e-ed38-4056-88e8-a45fd5ccb7d7/data/BS-7_19_L001_R2_001.fastq.gz\n",
      "\n",
      "\n",
      "Command: cutadapt --cores 8 --error-rate 0.1 --times 1 --overlap 3 -o /var/folders/k7/wbr70tj56_n4y6h66kszvm2r0000gq/T/q2-CasavaOneEightSingleLanePerSampleDirFmt-hezu__sd/BS-8_20_L001_R1_001.fastq.gz -p /var/folders/k7/wbr70tj56_n4y6h66kszvm2r0000gq/T/q2-CasavaOneEightSingleLanePerSampleDirFmt-hezu__sd/BS-8_21_L001_R2_001.fastq.gz --front AATGATACGGCGACCACCGAGATCTACACGCTNNNNNNNNNNNNTATGGTAATTGTGTGYCAGCMGCCGCGGTAA -G CAAGCAGAAGACGGCATACGAGATAGTCAGCCAGCCGGACTACNVGGGTWTCTAAT /var/folders/k7/wbr70tj56_n4y6h66kszvm2r0000gq/T/qiime2-archive-vbrtelja/b057d45e-ed38-4056-88e8-a45fd5ccb7d7/data/BS-8_20_L001_R1_001.fastq.gz /var/folders/k7/wbr70tj56_n4y6h66kszvm2r0000gq/T/qiime2-archive-vbrtelja/b057d45e-ed38-4056-88e8-a45fd5ccb7d7/data/BS-8_21_L001_R2_001.fastq.gz\n",
      "\n",
      "\n",
      "Command: cutadapt --cores 8 --error-rate 0.1 --times 1 --overlap 3 -o /var/folders/k7/wbr70tj56_n4y6h66kszvm2r0000gq/T/q2-CasavaOneEightSingleLanePerSampleDirFmt-hezu__sd/BS-9_22_L001_R1_001.fastq.gz -p /var/folders/k7/wbr70tj56_n4y6h66kszvm2r0000gq/T/q2-CasavaOneEightSingleLanePerSampleDirFmt-hezu__sd/BS-9_23_L001_R2_001.fastq.gz --front AATGATACGGCGACCACCGAGATCTACACGCTNNNNNNNNNNNNTATGGTAATTGTGTGYCAGCMGCCGCGGTAA -G CAAGCAGAAGACGGCATACGAGATAGTCAGCCAGCCGGACTACNVGGGTWTCTAAT /var/folders/k7/wbr70tj56_n4y6h66kszvm2r0000gq/T/qiime2-archive-vbrtelja/b057d45e-ed38-4056-88e8-a45fd5ccb7d7/data/BS-9_22_L001_R1_001.fastq.gz /var/folders/k7/wbr70tj56_n4y6h66kszvm2r0000gq/T/qiime2-archive-vbrtelja/b057d45e-ed38-4056-88e8-a45fd5ccb7d7/data/BS-9_23_L001_R2_001.fastq.gz\n",
      "\n",
      "\n",
      "Command: cutadapt --cores 8 --error-rate 0.1 --times 1 --overlap 3 -o /var/folders/k7/wbr70tj56_n4y6h66kszvm2r0000gq/T/q2-CasavaOneEightSingleLanePerSampleDirFmt-hezu__sd/COI1-16-1_24_L001_R1_001.fastq.gz -p /var/folders/k7/wbr70tj56_n4y6h66kszvm2r0000gq/T/q2-CasavaOneEightSingleLanePerSampleDirFmt-hezu__sd/COI1-16-1_25_L001_R2_001.fastq.gz --front AATGATACGGCGACCACCGAGATCTACACGCTNNNNNNNNNNNNTATGGTAATTGTGTGYCAGCMGCCGCGGTAA -G CAAGCAGAAGACGGCATACGAGATAGTCAGCCAGCCGGACTACNVGGGTWTCTAAT /var/folders/k7/wbr70tj56_n4y6h66kszvm2r0000gq/T/qiime2-archive-vbrtelja/b057d45e-ed38-4056-88e8-a45fd5ccb7d7/data/COI1-16-1_24_L001_R1_001.fastq.gz /var/folders/k7/wbr70tj56_n4y6h66kszvm2r0000gq/T/qiime2-archive-vbrtelja/b057d45e-ed38-4056-88e8-a45fd5ccb7d7/data/COI1-16-1_25_L001_R2_001.fastq.gz\n",
      "\n",
      "\n",
      "Command: cutadapt --cores 8 --error-rate 0.1 --times 1 --overlap 3 -o /var/folders/k7/wbr70tj56_n4y6h66kszvm2r0000gq/T/q2-CasavaOneEightSingleLanePerSampleDirFmt-hezu__sd/COI1-16-10_26_L001_R1_001.fastq.gz -p /var/folders/k7/wbr70tj56_n4y6h66kszvm2r0000gq/T/q2-CasavaOneEightSingleLanePerSampleDirFmt-hezu__sd/COI1-16-10_27_L001_R2_001.fastq.gz --front AATGATACGGCGACCACCGAGATCTACACGCTNNNNNNNNNNNNTATGGTAATTGTGTGYCAGCMGCCGCGGTAA -G CAAGCAGAAGACGGCATACGAGATAGTCAGCCAGCCGGACTACNVGGGTWTCTAAT /var/folders/k7/wbr70tj56_n4y6h66kszvm2r0000gq/T/qiime2-archive-vbrtelja/b057d45e-ed38-4056-88e8-a45fd5ccb7d7/data/COI1-16-10_26_L001_R1_001.fastq.gz /var/folders/k7/wbr70tj56_n4y6h66kszvm2r0000gq/T/qiime2-archive-vbrtelja/b057d45e-ed38-4056-88e8-a45fd5ccb7d7/data/COI1-16-10_27_L001_R2_001.fastq.gz\n",
      "\n",
      "\n",
      "Command: cutadapt --cores 8 --error-rate 0.1 --times 1 --overlap 3 -o /var/folders/k7/wbr70tj56_n4y6h66kszvm2r0000gq/T/q2-CasavaOneEightSingleLanePerSampleDirFmt-hezu__sd/COI1-16-2_28_L001_R1_001.fastq.gz -p /var/folders/k7/wbr70tj56_n4y6h66kszvm2r0000gq/T/q2-CasavaOneEightSingleLanePerSampleDirFmt-hezu__sd/COI1-16-2_29_L001_R2_001.fastq.gz --front AATGATACGGCGACCACCGAGATCTACACGCTNNNNNNNNNNNNTATGGTAATTGTGTGYCAGCMGCCGCGGTAA -G CAAGCAGAAGACGGCATACGAGATAGTCAGCCAGCCGGACTACNVGGGTWTCTAAT /var/folders/k7/wbr70tj56_n4y6h66kszvm2r0000gq/T/qiime2-archive-vbrtelja/b057d45e-ed38-4056-88e8-a45fd5ccb7d7/data/COI1-16-2_28_L001_R1_001.fastq.gz /var/folders/k7/wbr70tj56_n4y6h66kszvm2r0000gq/T/qiime2-archive-vbrtelja/b057d45e-ed38-4056-88e8-a45fd5ccb7d7/data/COI1-16-2_29_L001_R2_001.fastq.gz\n",
      "\n",
      "\n",
      "Command: cutadapt --cores 8 --error-rate 0.1 --times 1 --overlap 3 -o /var/folders/k7/wbr70tj56_n4y6h66kszvm2r0000gq/T/q2-CasavaOneEightSingleLanePerSampleDirFmt-hezu__sd/COI1-16-3_30_L001_R1_001.fastq.gz -p /var/folders/k7/wbr70tj56_n4y6h66kszvm2r0000gq/T/q2-CasavaOneEightSingleLanePerSampleDirFmt-hezu__sd/COI1-16-3_31_L001_R2_001.fastq.gz --front AATGATACGGCGACCACCGAGATCTACACGCTNNNNNNNNNNNNTATGGTAATTGTGTGYCAGCMGCCGCGGTAA -G CAAGCAGAAGACGGCATACGAGATAGTCAGCCAGCCGGACTACNVGGGTWTCTAAT /var/folders/k7/wbr70tj56_n4y6h66kszvm2r0000gq/T/qiime2-archive-vbrtelja/b057d45e-ed38-4056-88e8-a45fd5ccb7d7/data/COI1-16-3_30_L001_R1_001.fastq.gz /var/folders/k7/wbr70tj56_n4y6h66kszvm2r0000gq/T/qiime2-archive-vbrtelja/b057d45e-ed38-4056-88e8-a45fd5ccb7d7/data/COI1-16-3_31_L001_R2_001.fastq.gz\n",
      "\n",
      "\n",
      "Command: cutadapt --cores 8 --error-rate 0.1 --times 1 --overlap 3 -o /var/folders/k7/wbr70tj56_n4y6h66kszvm2r0000gq/T/q2-CasavaOneEightSingleLanePerSampleDirFmt-hezu__sd/COI1-16-4_32_L001_R1_001.fastq.gz -p /var/folders/k7/wbr70tj56_n4y6h66kszvm2r0000gq/T/q2-CasavaOneEightSingleLanePerSampleDirFmt-hezu__sd/COI1-16-4_33_L001_R2_001.fastq.gz --front AATGATACGGCGACCACCGAGATCTACACGCTNNNNNNNNNNNNTATGGTAATTGTGTGYCAGCMGCCGCGGTAA -G CAAGCAGAAGACGGCATACGAGATAGTCAGCCAGCCGGACTACNVGGGTWTCTAAT /var/folders/k7/wbr70tj56_n4y6h66kszvm2r0000gq/T/qiime2-archive-vbrtelja/b057d45e-ed38-4056-88e8-a45fd5ccb7d7/data/COI1-16-4_32_L001_R1_001.fastq.gz /var/folders/k7/wbr70tj56_n4y6h66kszvm2r0000gq/T/qiime2-archive-vbrtelja/b057d45e-ed38-4056-88e8-a45fd5ccb7d7/data/COI1-16-4_33_L001_R2_001.fastq.gz\n",
      "\n",
      "\n",
      "Command: cutadapt --cores 8 --error-rate 0.1 --times 1 --overlap 3 -o /var/folders/k7/wbr70tj56_n4y6h66kszvm2r0000gq/T/q2-CasavaOneEightSingleLanePerSampleDirFmt-hezu__sd/COI1-16-5_34_L001_R1_001.fastq.gz -p /var/folders/k7/wbr70tj56_n4y6h66kszvm2r0000gq/T/q2-CasavaOneEightSingleLanePerSampleDirFmt-hezu__sd/COI1-16-5_35_L001_R2_001.fastq.gz --front AATGATACGGCGACCACCGAGATCTACACGCTNNNNNNNNNNNNTATGGTAATTGTGTGYCAGCMGCCGCGGTAA -G CAAGCAGAAGACGGCATACGAGATAGTCAGCCAGCCGGACTACNVGGGTWTCTAAT /var/folders/k7/wbr70tj56_n4y6h66kszvm2r0000gq/T/qiime2-archive-vbrtelja/b057d45e-ed38-4056-88e8-a45fd5ccb7d7/data/COI1-16-5_34_L001_R1_001.fastq.gz /var/folders/k7/wbr70tj56_n4y6h66kszvm2r0000gq/T/qiime2-archive-vbrtelja/b057d45e-ed38-4056-88e8-a45fd5ccb7d7/data/COI1-16-5_35_L001_R2_001.fastq.gz\n",
      "\n",
      "\n",
      "Command: cutadapt --cores 8 --error-rate 0.1 --times 1 --overlap 3 -o /var/folders/k7/wbr70tj56_n4y6h66kszvm2r0000gq/T/q2-CasavaOneEightSingleLanePerSampleDirFmt-hezu__sd/COI1-16-6_36_L001_R1_001.fastq.gz -p /var/folders/k7/wbr70tj56_n4y6h66kszvm2r0000gq/T/q2-CasavaOneEightSingleLanePerSampleDirFmt-hezu__sd/COI1-16-6_37_L001_R2_001.fastq.gz --front AATGATACGGCGACCACCGAGATCTACACGCTNNNNNNNNNNNNTATGGTAATTGTGTGYCAGCMGCCGCGGTAA -G CAAGCAGAAGACGGCATACGAGATAGTCAGCCAGCCGGACTACNVGGGTWTCTAAT /var/folders/k7/wbr70tj56_n4y6h66kszvm2r0000gq/T/qiime2-archive-vbrtelja/b057d45e-ed38-4056-88e8-a45fd5ccb7d7/data/COI1-16-6_36_L001_R1_001.fastq.gz /var/folders/k7/wbr70tj56_n4y6h66kszvm2r0000gq/T/qiime2-archive-vbrtelja/b057d45e-ed38-4056-88e8-a45fd5ccb7d7/data/COI1-16-6_37_L001_R2_001.fastq.gz\n",
      "\n",
      "\n",
      "Command: cutadapt --cores 8 --error-rate 0.1 --times 1 --overlap 3 -o /var/folders/k7/wbr70tj56_n4y6h66kszvm2r0000gq/T/q2-CasavaOneEightSingleLanePerSampleDirFmt-hezu__sd/COI1-16-7_38_L001_R1_001.fastq.gz -p /var/folders/k7/wbr70tj56_n4y6h66kszvm2r0000gq/T/q2-CasavaOneEightSingleLanePerSampleDirFmt-hezu__sd/COI1-16-7_39_L001_R2_001.fastq.gz --front AATGATACGGCGACCACCGAGATCTACACGCTNNNNNNNNNNNNTATGGTAATTGTGTGYCAGCMGCCGCGGTAA -G CAAGCAGAAGACGGCATACGAGATAGTCAGCCAGCCGGACTACNVGGGTWTCTAAT /var/folders/k7/wbr70tj56_n4y6h66kszvm2r0000gq/T/qiime2-archive-vbrtelja/b057d45e-ed38-4056-88e8-a45fd5ccb7d7/data/COI1-16-7_38_L001_R1_001.fastq.gz /var/folders/k7/wbr70tj56_n4y6h66kszvm2r0000gq/T/qiime2-archive-vbrtelja/b057d45e-ed38-4056-88e8-a45fd5ccb7d7/data/COI1-16-7_39_L001_R2_001.fastq.gz\n",
      "\n",
      "\n",
      "Command: cutadapt --cores 8 --error-rate 0.1 --times 1 --overlap 3 -o /var/folders/k7/wbr70tj56_n4y6h66kszvm2r0000gq/T/q2-CasavaOneEightSingleLanePerSampleDirFmt-hezu__sd/COI1-16-8_40_L001_R1_001.fastq.gz -p /var/folders/k7/wbr70tj56_n4y6h66kszvm2r0000gq/T/q2-CasavaOneEightSingleLanePerSampleDirFmt-hezu__sd/COI1-16-8_41_L001_R2_001.fastq.gz --front AATGATACGGCGACCACCGAGATCTACACGCTNNNNNNNNNNNNTATGGTAATTGTGTGYCAGCMGCCGCGGTAA -G CAAGCAGAAGACGGCATACGAGATAGTCAGCCAGCCGGACTACNVGGGTWTCTAAT /var/folders/k7/wbr70tj56_n4y6h66kszvm2r0000gq/T/qiime2-archive-vbrtelja/b057d45e-ed38-4056-88e8-a45fd5ccb7d7/data/COI1-16-8_40_L001_R1_001.fastq.gz /var/folders/k7/wbr70tj56_n4y6h66kszvm2r0000gq/T/qiime2-archive-vbrtelja/b057d45e-ed38-4056-88e8-a45fd5ccb7d7/data/COI1-16-8_41_L001_R2_001.fastq.gz\n",
      "\n",
      "\n",
      "Command: cutadapt --cores 8 --error-rate 0.1 --times 1 --overlap 3 -o /var/folders/k7/wbr70tj56_n4y6h66kszvm2r0000gq/T/q2-CasavaOneEightSingleLanePerSampleDirFmt-hezu__sd/COI1-16-9_42_L001_R1_001.fastq.gz -p /var/folders/k7/wbr70tj56_n4y6h66kszvm2r0000gq/T/q2-CasavaOneEightSingleLanePerSampleDirFmt-hezu__sd/COI1-16-9_43_L001_R2_001.fastq.gz --front AATGATACGGCGACCACCGAGATCTACACGCTNNNNNNNNNNNNTATGGTAATTGTGTGYCAGCMGCCGCGGTAA -G CAAGCAGAAGACGGCATACGAGATAGTCAGCCAGCCGGACTACNVGGGTWTCTAAT /var/folders/k7/wbr70tj56_n4y6h66kszvm2r0000gq/T/qiime2-archive-vbrtelja/b057d45e-ed38-4056-88e8-a45fd5ccb7d7/data/COI1-16-9_42_L001_R1_001.fastq.gz /var/folders/k7/wbr70tj56_n4y6h66kszvm2r0000gq/T/qiime2-archive-vbrtelja/b057d45e-ed38-4056-88e8-a45fd5ccb7d7/data/COI1-16-9_43_L001_R2_001.fastq.gz\n",
      "\n",
      "\n",
      "Command: cutadapt --cores 8 --error-rate 0.1 --times 1 --overlap 3 -o /var/folders/k7/wbr70tj56_n4y6h66kszvm2r0000gq/T/q2-CasavaOneEightSingleLanePerSampleDirFmt-hezu__sd/CTR1-1_44_L001_R1_001.fastq.gz -p /var/folders/k7/wbr70tj56_n4y6h66kszvm2r0000gq/T/q2-CasavaOneEightSingleLanePerSampleDirFmt-hezu__sd/CTR1-1_45_L001_R2_001.fastq.gz --front AATGATACGGCGACCACCGAGATCTACACGCTNNNNNNNNNNNNTATGGTAATTGTGTGYCAGCMGCCGCGGTAA -G CAAGCAGAAGACGGCATACGAGATAGTCAGCCAGCCGGACTACNVGGGTWTCTAAT /var/folders/k7/wbr70tj56_n4y6h66kszvm2r0000gq/T/qiime2-archive-vbrtelja/b057d45e-ed38-4056-88e8-a45fd5ccb7d7/data/CTR1-1_44_L001_R1_001.fastq.gz /var/folders/k7/wbr70tj56_n4y6h66kszvm2r0000gq/T/qiime2-archive-vbrtelja/b057d45e-ed38-4056-88e8-a45fd5ccb7d7/data/CTR1-1_45_L001_R2_001.fastq.gz\n",
      "\n",
      "\n",
      "Command: cutadapt --cores 8 --error-rate 0.1 --times 1 --overlap 3 -o /var/folders/k7/wbr70tj56_n4y6h66kszvm2r0000gq/T/q2-CasavaOneEightSingleLanePerSampleDirFmt-hezu__sd/CTR1-2_46_L001_R1_001.fastq.gz -p /var/folders/k7/wbr70tj56_n4y6h66kszvm2r0000gq/T/q2-CasavaOneEightSingleLanePerSampleDirFmt-hezu__sd/CTR1-2_47_L001_R2_001.fastq.gz --front AATGATACGGCGACCACCGAGATCTACACGCTNNNNNNNNNNNNTATGGTAATTGTGTGYCAGCMGCCGCGGTAA -G CAAGCAGAAGACGGCATACGAGATAGTCAGCCAGCCGGACTACNVGGGTWTCTAAT /var/folders/k7/wbr70tj56_n4y6h66kszvm2r0000gq/T/qiime2-archive-vbrtelja/b057d45e-ed38-4056-88e8-a45fd5ccb7d7/data/CTR1-2_46_L001_R1_001.fastq.gz /var/folders/k7/wbr70tj56_n4y6h66kszvm2r0000gq/T/qiime2-archive-vbrtelja/b057d45e-ed38-4056-88e8-a45fd5ccb7d7/data/CTR1-2_47_L001_R2_001.fastq.gz\n",
      "\n",
      "\n",
      "Command: cutadapt --cores 8 --error-rate 0.1 --times 1 --overlap 3 -o /var/folders/k7/wbr70tj56_n4y6h66kszvm2r0000gq/T/q2-CasavaOneEightSingleLanePerSampleDirFmt-hezu__sd/CTR1-3_48_L001_R1_001.fastq.gz -p /var/folders/k7/wbr70tj56_n4y6h66kszvm2r0000gq/T/q2-CasavaOneEightSingleLanePerSampleDirFmt-hezu__sd/CTR1-3_49_L001_R2_001.fastq.gz --front AATGATACGGCGACCACCGAGATCTACACGCTNNNNNNNNNNNNTATGGTAATTGTGTGYCAGCMGCCGCGGTAA -G CAAGCAGAAGACGGCATACGAGATAGTCAGCCAGCCGGACTACNVGGGTWTCTAAT /var/folders/k7/wbr70tj56_n4y6h66kszvm2r0000gq/T/qiime2-archive-vbrtelja/b057d45e-ed38-4056-88e8-a45fd5ccb7d7/data/CTR1-3_48_L001_R1_001.fastq.gz /var/folders/k7/wbr70tj56_n4y6h66kszvm2r0000gq/T/qiime2-archive-vbrtelja/b057d45e-ed38-4056-88e8-a45fd5ccb7d7/data/CTR1-3_49_L001_R2_001.fastq.gz\n",
      "\n",
      "\n",
      "Command: cutadapt --cores 8 --error-rate 0.1 --times 1 --overlap 3 -o /var/folders/k7/wbr70tj56_n4y6h66kszvm2r0000gq/T/q2-CasavaOneEightSingleLanePerSampleDirFmt-hezu__sd/CTR1-4_50_L001_R1_001.fastq.gz -p /var/folders/k7/wbr70tj56_n4y6h66kszvm2r0000gq/T/q2-CasavaOneEightSingleLanePerSampleDirFmt-hezu__sd/CTR1-4_51_L001_R2_001.fastq.gz --front AATGATACGGCGACCACCGAGATCTACACGCTNNNNNNNNNNNNTATGGTAATTGTGTGYCAGCMGCCGCGGTAA -G CAAGCAGAAGACGGCATACGAGATAGTCAGCCAGCCGGACTACNVGGGTWTCTAAT /var/folders/k7/wbr70tj56_n4y6h66kszvm2r0000gq/T/qiime2-archive-vbrtelja/b057d45e-ed38-4056-88e8-a45fd5ccb7d7/data/CTR1-4_50_L001_R1_001.fastq.gz /var/folders/k7/wbr70tj56_n4y6h66kszvm2r0000gq/T/qiime2-archive-vbrtelja/b057d45e-ed38-4056-88e8-a45fd5ccb7d7/data/CTR1-4_51_L001_R2_001.fastq.gz\n",
      "\n",
      "\n",
      "Command: cutadapt --cores 8 --error-rate 0.1 --times 1 --overlap 3 -o /var/folders/k7/wbr70tj56_n4y6h66kszvm2r0000gq/T/q2-CasavaOneEightSingleLanePerSampleDirFmt-hezu__sd/CTR1-5_52_L001_R1_001.fastq.gz -p /var/folders/k7/wbr70tj56_n4y6h66kszvm2r0000gq/T/q2-CasavaOneEightSingleLanePerSampleDirFmt-hezu__sd/CTR1-5_53_L001_R2_001.fastq.gz --front AATGATACGGCGACCACCGAGATCTACACGCTNNNNNNNNNNNNTATGGTAATTGTGTGYCAGCMGCCGCGGTAA -G CAAGCAGAAGACGGCATACGAGATAGTCAGCCAGCCGGACTACNVGGGTWTCTAAT /var/folders/k7/wbr70tj56_n4y6h66kszvm2r0000gq/T/qiime2-archive-vbrtelja/b057d45e-ed38-4056-88e8-a45fd5ccb7d7/data/CTR1-5_52_L001_R1_001.fastq.gz /var/folders/k7/wbr70tj56_n4y6h66kszvm2r0000gq/T/qiime2-archive-vbrtelja/b057d45e-ed38-4056-88e8-a45fd5ccb7d7/data/CTR1-5_53_L001_R2_001.fastq.gz\n",
      "\n",
      "\n",
      "Command: cutadapt --cores 8 --error-rate 0.1 --times 1 --overlap 3 -o /var/folders/k7/wbr70tj56_n4y6h66kszvm2r0000gq/T/q2-CasavaOneEightSingleLanePerSampleDirFmt-hezu__sd/CTR1-6_54_L001_R1_001.fastq.gz -p /var/folders/k7/wbr70tj56_n4y6h66kszvm2r0000gq/T/q2-CasavaOneEightSingleLanePerSampleDirFmt-hezu__sd/CTR1-6_55_L001_R2_001.fastq.gz --front AATGATACGGCGACCACCGAGATCTACACGCTNNNNNNNNNNNNTATGGTAATTGTGTGYCAGCMGCCGCGGTAA -G CAAGCAGAAGACGGCATACGAGATAGTCAGCCAGCCGGACTACNVGGGTWTCTAAT /var/folders/k7/wbr70tj56_n4y6h66kszvm2r0000gq/T/qiime2-archive-vbrtelja/b057d45e-ed38-4056-88e8-a45fd5ccb7d7/data/CTR1-6_54_L001_R1_001.fastq.gz /var/folders/k7/wbr70tj56_n4y6h66kszvm2r0000gq/T/qiime2-archive-vbrtelja/b057d45e-ed38-4056-88e8-a45fd5ccb7d7/data/CTR1-6_55_L001_R2_001.fastq.gz\n",
      "\n",
      "\n",
      "Command: cutadapt --cores 8 --error-rate 0.1 --times 1 --overlap 3 -o /var/folders/k7/wbr70tj56_n4y6h66kszvm2r0000gq/T/q2-CasavaOneEightSingleLanePerSampleDirFmt-hezu__sd/CTR1-7_56_L001_R1_001.fastq.gz -p /var/folders/k7/wbr70tj56_n4y6h66kszvm2r0000gq/T/q2-CasavaOneEightSingleLanePerSampleDirFmt-hezu__sd/CTR1-7_57_L001_R2_001.fastq.gz --front AATGATACGGCGACCACCGAGATCTACACGCTNNNNNNNNNNNNTATGGTAATTGTGTGYCAGCMGCCGCGGTAA -G CAAGCAGAAGACGGCATACGAGATAGTCAGCCAGCCGGACTACNVGGGTWTCTAAT /var/folders/k7/wbr70tj56_n4y6h66kszvm2r0000gq/T/qiime2-archive-vbrtelja/b057d45e-ed38-4056-88e8-a45fd5ccb7d7/data/CTR1-7_56_L001_R1_001.fastq.gz /var/folders/k7/wbr70tj56_n4y6h66kszvm2r0000gq/T/qiime2-archive-vbrtelja/b057d45e-ed38-4056-88e8-a45fd5ccb7d7/data/CTR1-7_57_L001_R2_001.fastq.gz\n",
      "\n",
      "\n",
      "Command: cutadapt --cores 8 --error-rate 0.1 --times 1 --overlap 3 -o /var/folders/k7/wbr70tj56_n4y6h66kszvm2r0000gq/T/q2-CasavaOneEightSingleLanePerSampleDirFmt-hezu__sd/CTR1-8_58_L001_R1_001.fastq.gz -p /var/folders/k7/wbr70tj56_n4y6h66kszvm2r0000gq/T/q2-CasavaOneEightSingleLanePerSampleDirFmt-hezu__sd/CTR1-8_59_L001_R2_001.fastq.gz --front AATGATACGGCGACCACCGAGATCTACACGCTNNNNNNNNNNNNTATGGTAATTGTGTGYCAGCMGCCGCGGTAA -G CAAGCAGAAGACGGCATACGAGATAGTCAGCCAGCCGGACTACNVGGGTWTCTAAT /var/folders/k7/wbr70tj56_n4y6h66kszvm2r0000gq/T/qiime2-archive-vbrtelja/b057d45e-ed38-4056-88e8-a45fd5ccb7d7/data/CTR1-8_58_L001_R1_001.fastq.gz /var/folders/k7/wbr70tj56_n4y6h66kszvm2r0000gq/T/qiime2-archive-vbrtelja/b057d45e-ed38-4056-88e8-a45fd5ccb7d7/data/CTR1-8_59_L001_R2_001.fastq.gz\n",
      "\n",
      "\n",
      "Command: cutadapt --cores 8 --error-rate 0.1 --times 1 --overlap 3 -o /var/folders/k7/wbr70tj56_n4y6h66kszvm2r0000gq/T/q2-CasavaOneEightSingleLanePerSampleDirFmt-hezu__sd/CTR1-9_60_L001_R1_001.fastq.gz -p /var/folders/k7/wbr70tj56_n4y6h66kszvm2r0000gq/T/q2-CasavaOneEightSingleLanePerSampleDirFmt-hezu__sd/CTR1-9_61_L001_R2_001.fastq.gz --front AATGATACGGCGACCACCGAGATCTACACGCTNNNNNNNNNNNNTATGGTAATTGTGTGYCAGCMGCCGCGGTAA -G CAAGCAGAAGACGGCATACGAGATAGTCAGCCAGCCGGACTACNVGGGTWTCTAAT /var/folders/k7/wbr70tj56_n4y6h66kszvm2r0000gq/T/qiime2-archive-vbrtelja/b057d45e-ed38-4056-88e8-a45fd5ccb7d7/data/CTR1-9_60_L001_R1_001.fastq.gz /var/folders/k7/wbr70tj56_n4y6h66kszvm2r0000gq/T/qiime2-archive-vbrtelja/b057d45e-ed38-4056-88e8-a45fd5ccb7d7/data/CTR1-9_61_L001_R2_001.fastq.gz\n",
      "\n",
      "\n",
      "Command: cutadapt --cores 8 --error-rate 0.1 --times 1 --overlap 3 -o /var/folders/k7/wbr70tj56_n4y6h66kszvm2r0000gq/T/q2-CasavaOneEightSingleLanePerSampleDirFmt-hezu__sd/Col0-1_62_L001_R1_001.fastq.gz -p /var/folders/k7/wbr70tj56_n4y6h66kszvm2r0000gq/T/q2-CasavaOneEightSingleLanePerSampleDirFmt-hezu__sd/Col0-1_63_L001_R2_001.fastq.gz --front AATGATACGGCGACCACCGAGATCTACACGCTNNNNNNNNNNNNTATGGTAATTGTGTGYCAGCMGCCGCGGTAA -G CAAGCAGAAGACGGCATACGAGATAGTCAGCCAGCCGGACTACNVGGGTWTCTAAT /var/folders/k7/wbr70tj56_n4y6h66kszvm2r0000gq/T/qiime2-archive-vbrtelja/b057d45e-ed38-4056-88e8-a45fd5ccb7d7/data/Col0-1_62_L001_R1_001.fastq.gz /var/folders/k7/wbr70tj56_n4y6h66kszvm2r0000gq/T/qiime2-archive-vbrtelja/b057d45e-ed38-4056-88e8-a45fd5ccb7d7/data/Col0-1_63_L001_R2_001.fastq.gz\n",
      "\n",
      "\n",
      "Command: cutadapt --cores 8 --error-rate 0.1 --times 1 --overlap 3 -o /var/folders/k7/wbr70tj56_n4y6h66kszvm2r0000gq/T/q2-CasavaOneEightSingleLanePerSampleDirFmt-hezu__sd/Col0-10_64_L001_R1_001.fastq.gz -p /var/folders/k7/wbr70tj56_n4y6h66kszvm2r0000gq/T/q2-CasavaOneEightSingleLanePerSampleDirFmt-hezu__sd/Col0-10_65_L001_R2_001.fastq.gz --front AATGATACGGCGACCACCGAGATCTACACGCTNNNNNNNNNNNNTATGGTAATTGTGTGYCAGCMGCCGCGGTAA -G CAAGCAGAAGACGGCATACGAGATAGTCAGCCAGCCGGACTACNVGGGTWTCTAAT /var/folders/k7/wbr70tj56_n4y6h66kszvm2r0000gq/T/qiime2-archive-vbrtelja/b057d45e-ed38-4056-88e8-a45fd5ccb7d7/data/Col0-10_64_L001_R1_001.fastq.gz /var/folders/k7/wbr70tj56_n4y6h66kszvm2r0000gq/T/qiime2-archive-vbrtelja/b057d45e-ed38-4056-88e8-a45fd5ccb7d7/data/Col0-10_65_L001_R2_001.fastq.gz\n",
      "\n",
      "\n",
      "Command: cutadapt --cores 8 --error-rate 0.1 --times 1 --overlap 3 -o /var/folders/k7/wbr70tj56_n4y6h66kszvm2r0000gq/T/q2-CasavaOneEightSingleLanePerSampleDirFmt-hezu__sd/Col0-11_66_L001_R1_001.fastq.gz -p /var/folders/k7/wbr70tj56_n4y6h66kszvm2r0000gq/T/q2-CasavaOneEightSingleLanePerSampleDirFmt-hezu__sd/Col0-11_67_L001_R2_001.fastq.gz --front AATGATACGGCGACCACCGAGATCTACACGCTNNNNNNNNNNNNTATGGTAATTGTGTGYCAGCMGCCGCGGTAA -G CAAGCAGAAGACGGCATACGAGATAGTCAGCCAGCCGGACTACNVGGGTWTCTAAT /var/folders/k7/wbr70tj56_n4y6h66kszvm2r0000gq/T/qiime2-archive-vbrtelja/b057d45e-ed38-4056-88e8-a45fd5ccb7d7/data/Col0-11_66_L001_R1_001.fastq.gz /var/folders/k7/wbr70tj56_n4y6h66kszvm2r0000gq/T/qiime2-archive-vbrtelja/b057d45e-ed38-4056-88e8-a45fd5ccb7d7/data/Col0-11_67_L001_R2_001.fastq.gz\n",
      "\n",
      "\n",
      "Command: cutadapt --cores 8 --error-rate 0.1 --times 1 --overlap 3 -o /var/folders/k7/wbr70tj56_n4y6h66kszvm2r0000gq/T/q2-CasavaOneEightSingleLanePerSampleDirFmt-hezu__sd/Col0-12_68_L001_R1_001.fastq.gz -p /var/folders/k7/wbr70tj56_n4y6h66kszvm2r0000gq/T/q2-CasavaOneEightSingleLanePerSampleDirFmt-hezu__sd/Col0-12_69_L001_R2_001.fastq.gz --front AATGATACGGCGACCACCGAGATCTACACGCTNNNNNNNNNNNNTATGGTAATTGTGTGYCAGCMGCCGCGGTAA -G CAAGCAGAAGACGGCATACGAGATAGTCAGCCAGCCGGACTACNVGGGTWTCTAAT /var/folders/k7/wbr70tj56_n4y6h66kszvm2r0000gq/T/qiime2-archive-vbrtelja/b057d45e-ed38-4056-88e8-a45fd5ccb7d7/data/Col0-12_68_L001_R1_001.fastq.gz /var/folders/k7/wbr70tj56_n4y6h66kszvm2r0000gq/T/qiime2-archive-vbrtelja/b057d45e-ed38-4056-88e8-a45fd5ccb7d7/data/Col0-12_69_L001_R2_001.fastq.gz\n",
      "\n",
      "\n",
      "Command: cutadapt --cores 8 --error-rate 0.1 --times 1 --overlap 3 -o /var/folders/k7/wbr70tj56_n4y6h66kszvm2r0000gq/T/q2-CasavaOneEightSingleLanePerSampleDirFmt-hezu__sd/Col0-2_70_L001_R1_001.fastq.gz -p /var/folders/k7/wbr70tj56_n4y6h66kszvm2r0000gq/T/q2-CasavaOneEightSingleLanePerSampleDirFmt-hezu__sd/Col0-2_71_L001_R2_001.fastq.gz --front AATGATACGGCGACCACCGAGATCTACACGCTNNNNNNNNNNNNTATGGTAATTGTGTGYCAGCMGCCGCGGTAA -G CAAGCAGAAGACGGCATACGAGATAGTCAGCCAGCCGGACTACNVGGGTWTCTAAT /var/folders/k7/wbr70tj56_n4y6h66kszvm2r0000gq/T/qiime2-archive-vbrtelja/b057d45e-ed38-4056-88e8-a45fd5ccb7d7/data/Col0-2_70_L001_R1_001.fastq.gz /var/folders/k7/wbr70tj56_n4y6h66kszvm2r0000gq/T/qiime2-archive-vbrtelja/b057d45e-ed38-4056-88e8-a45fd5ccb7d7/data/Col0-2_71_L001_R2_001.fastq.gz\n",
      "\n",
      "\n",
      "Command: cutadapt --cores 8 --error-rate 0.1 --times 1 --overlap 3 -o /var/folders/k7/wbr70tj56_n4y6h66kszvm2r0000gq/T/q2-CasavaOneEightSingleLanePerSampleDirFmt-hezu__sd/Col0-3_72_L001_R1_001.fastq.gz -p /var/folders/k7/wbr70tj56_n4y6h66kszvm2r0000gq/T/q2-CasavaOneEightSingleLanePerSampleDirFmt-hezu__sd/Col0-3_73_L001_R2_001.fastq.gz --front AATGATACGGCGACCACCGAGATCTACACGCTNNNNNNNNNNNNTATGGTAATTGTGTGYCAGCMGCCGCGGTAA -G CAAGCAGAAGACGGCATACGAGATAGTCAGCCAGCCGGACTACNVGGGTWTCTAAT /var/folders/k7/wbr70tj56_n4y6h66kszvm2r0000gq/T/qiime2-archive-vbrtelja/b057d45e-ed38-4056-88e8-a45fd5ccb7d7/data/Col0-3_72_L001_R1_001.fastq.gz /var/folders/k7/wbr70tj56_n4y6h66kszvm2r0000gq/T/qiime2-archive-vbrtelja/b057d45e-ed38-4056-88e8-a45fd5ccb7d7/data/Col0-3_73_L001_R2_001.fastq.gz\n",
      "\n",
      "\n",
      "Command: cutadapt --cores 8 --error-rate 0.1 --times 1 --overlap 3 -o /var/folders/k7/wbr70tj56_n4y6h66kszvm2r0000gq/T/q2-CasavaOneEightSingleLanePerSampleDirFmt-hezu__sd/Col0-4_74_L001_R1_001.fastq.gz -p /var/folders/k7/wbr70tj56_n4y6h66kszvm2r0000gq/T/q2-CasavaOneEightSingleLanePerSampleDirFmt-hezu__sd/Col0-4_75_L001_R2_001.fastq.gz --front AATGATACGGCGACCACCGAGATCTACACGCTNNNNNNNNNNNNTATGGTAATTGTGTGYCAGCMGCCGCGGTAA -G CAAGCAGAAGACGGCATACGAGATAGTCAGCCAGCCGGACTACNVGGGTWTCTAAT /var/folders/k7/wbr70tj56_n4y6h66kszvm2r0000gq/T/qiime2-archive-vbrtelja/b057d45e-ed38-4056-88e8-a45fd5ccb7d7/data/Col0-4_74_L001_R1_001.fastq.gz /var/folders/k7/wbr70tj56_n4y6h66kszvm2r0000gq/T/qiime2-archive-vbrtelja/b057d45e-ed38-4056-88e8-a45fd5ccb7d7/data/Col0-4_75_L001_R2_001.fastq.gz\n",
      "\n",
      "\n",
      "Command: cutadapt --cores 8 --error-rate 0.1 --times 1 --overlap 3 -o /var/folders/k7/wbr70tj56_n4y6h66kszvm2r0000gq/T/q2-CasavaOneEightSingleLanePerSampleDirFmt-hezu__sd/Col0-5_76_L001_R1_001.fastq.gz -p /var/folders/k7/wbr70tj56_n4y6h66kszvm2r0000gq/T/q2-CasavaOneEightSingleLanePerSampleDirFmt-hezu__sd/Col0-5_77_L001_R2_001.fastq.gz --front AATGATACGGCGACCACCGAGATCTACACGCTNNNNNNNNNNNNTATGGTAATTGTGTGYCAGCMGCCGCGGTAA -G CAAGCAGAAGACGGCATACGAGATAGTCAGCCAGCCGGACTACNVGGGTWTCTAAT /var/folders/k7/wbr70tj56_n4y6h66kszvm2r0000gq/T/qiime2-archive-vbrtelja/b057d45e-ed38-4056-88e8-a45fd5ccb7d7/data/Col0-5_76_L001_R1_001.fastq.gz /var/folders/k7/wbr70tj56_n4y6h66kszvm2r0000gq/T/qiime2-archive-vbrtelja/b057d45e-ed38-4056-88e8-a45fd5ccb7d7/data/Col0-5_77_L001_R2_001.fastq.gz\n",
      "\n",
      "\n",
      "Command: cutadapt --cores 8 --error-rate 0.1 --times 1 --overlap 3 -o /var/folders/k7/wbr70tj56_n4y6h66kszvm2r0000gq/T/q2-CasavaOneEightSingleLanePerSampleDirFmt-hezu__sd/Col0-6_78_L001_R1_001.fastq.gz -p /var/folders/k7/wbr70tj56_n4y6h66kszvm2r0000gq/T/q2-CasavaOneEightSingleLanePerSampleDirFmt-hezu__sd/Col0-6_79_L001_R2_001.fastq.gz --front AATGATACGGCGACCACCGAGATCTACACGCTNNNNNNNNNNNNTATGGTAATTGTGTGYCAGCMGCCGCGGTAA -G CAAGCAGAAGACGGCATACGAGATAGTCAGCCAGCCGGACTACNVGGGTWTCTAAT /var/folders/k7/wbr70tj56_n4y6h66kszvm2r0000gq/T/qiime2-archive-vbrtelja/b057d45e-ed38-4056-88e8-a45fd5ccb7d7/data/Col0-6_78_L001_R1_001.fastq.gz /var/folders/k7/wbr70tj56_n4y6h66kszvm2r0000gq/T/qiime2-archive-vbrtelja/b057d45e-ed38-4056-88e8-a45fd5ccb7d7/data/Col0-6_79_L001_R2_001.fastq.gz\n",
      "\n",
      "\n",
      "Command: cutadapt --cores 8 --error-rate 0.1 --times 1 --overlap 3 -o /var/folders/k7/wbr70tj56_n4y6h66kszvm2r0000gq/T/q2-CasavaOneEightSingleLanePerSampleDirFmt-hezu__sd/Col0-7_80_L001_R1_001.fastq.gz -p /var/folders/k7/wbr70tj56_n4y6h66kszvm2r0000gq/T/q2-CasavaOneEightSingleLanePerSampleDirFmt-hezu__sd/Col0-7_81_L001_R2_001.fastq.gz --front AATGATACGGCGACCACCGAGATCTACACGCTNNNNNNNNNNNNTATGGTAATTGTGTGYCAGCMGCCGCGGTAA -G CAAGCAGAAGACGGCATACGAGATAGTCAGCCAGCCGGACTACNVGGGTWTCTAAT /var/folders/k7/wbr70tj56_n4y6h66kszvm2r0000gq/T/qiime2-archive-vbrtelja/b057d45e-ed38-4056-88e8-a45fd5ccb7d7/data/Col0-7_80_L001_R1_001.fastq.gz /var/folders/k7/wbr70tj56_n4y6h66kszvm2r0000gq/T/qiime2-archive-vbrtelja/b057d45e-ed38-4056-88e8-a45fd5ccb7d7/data/Col0-7_81_L001_R2_001.fastq.gz\n",
      "\n",
      "\n",
      "Command: cutadapt --cores 8 --error-rate 0.1 --times 1 --overlap 3 -o /var/folders/k7/wbr70tj56_n4y6h66kszvm2r0000gq/T/q2-CasavaOneEightSingleLanePerSampleDirFmt-hezu__sd/Col0-8_82_L001_R1_001.fastq.gz -p /var/folders/k7/wbr70tj56_n4y6h66kszvm2r0000gq/T/q2-CasavaOneEightSingleLanePerSampleDirFmt-hezu__sd/Col0-8_83_L001_R2_001.fastq.gz --front AATGATACGGCGACCACCGAGATCTACACGCTNNNNNNNNNNNNTATGGTAATTGTGTGYCAGCMGCCGCGGTAA -G CAAGCAGAAGACGGCATACGAGATAGTCAGCCAGCCGGACTACNVGGGTWTCTAAT /var/folders/k7/wbr70tj56_n4y6h66kszvm2r0000gq/T/qiime2-archive-vbrtelja/b057d45e-ed38-4056-88e8-a45fd5ccb7d7/data/Col0-8_82_L001_R1_001.fastq.gz /var/folders/k7/wbr70tj56_n4y6h66kszvm2r0000gq/T/qiime2-archive-vbrtelja/b057d45e-ed38-4056-88e8-a45fd5ccb7d7/data/Col0-8_83_L001_R2_001.fastq.gz\n",
      "\n",
      "\n",
      "Command: cutadapt --cores 8 --error-rate 0.1 --times 1 --overlap 3 -o /var/folders/k7/wbr70tj56_n4y6h66kszvm2r0000gq/T/q2-CasavaOneEightSingleLanePerSampleDirFmt-hezu__sd/Col0-9_84_L001_R1_001.fastq.gz -p /var/folders/k7/wbr70tj56_n4y6h66kszvm2r0000gq/T/q2-CasavaOneEightSingleLanePerSampleDirFmt-hezu__sd/Col0-9_85_L001_R2_001.fastq.gz --front AATGATACGGCGACCACCGAGATCTACACGCTNNNNNNNNNNNNTATGGTAATTGTGTGYCAGCMGCCGCGGTAA -G CAAGCAGAAGACGGCATACGAGATAGTCAGCCAGCCGGACTACNVGGGTWTCTAAT /var/folders/k7/wbr70tj56_n4y6h66kszvm2r0000gq/T/qiime2-archive-vbrtelja/b057d45e-ed38-4056-88e8-a45fd5ccb7d7/data/Col0-9_84_L001_R1_001.fastq.gz /var/folders/k7/wbr70tj56_n4y6h66kszvm2r0000gq/T/qiime2-archive-vbrtelja/b057d45e-ed38-4056-88e8-a45fd5ccb7d7/data/Col0-9_85_L001_R2_001.fastq.gz\n",
      "\n",
      "\n",
      "Command: cutadapt --cores 8 --error-rate 0.1 --times 1 --overlap 3 -o /var/folders/k7/wbr70tj56_n4y6h66kszvm2r0000gq/T/q2-CasavaOneEightSingleLanePerSampleDirFmt-hezu__sd/HSM-1_86_L001_R1_001.fastq.gz -p /var/folders/k7/wbr70tj56_n4y6h66kszvm2r0000gq/T/q2-CasavaOneEightSingleLanePerSampleDirFmt-hezu__sd/HSM-1_87_L001_R2_001.fastq.gz --front AATGATACGGCGACCACCGAGATCTACACGCTNNNNNNNNNNNNTATGGTAATTGTGTGYCAGCMGCCGCGGTAA -G CAAGCAGAAGACGGCATACGAGATAGTCAGCCAGCCGGACTACNVGGGTWTCTAAT /var/folders/k7/wbr70tj56_n4y6h66kszvm2r0000gq/T/qiime2-archive-vbrtelja/b057d45e-ed38-4056-88e8-a45fd5ccb7d7/data/HSM-1_86_L001_R1_001.fastq.gz /var/folders/k7/wbr70tj56_n4y6h66kszvm2r0000gq/T/qiime2-archive-vbrtelja/b057d45e-ed38-4056-88e8-a45fd5ccb7d7/data/HSM-1_87_L001_R2_001.fastq.gz\n",
      "\n",
      "\n",
      "Command: cutadapt --cores 8 --error-rate 0.1 --times 1 --overlap 3 -o /var/folders/k7/wbr70tj56_n4y6h66kszvm2r0000gq/T/q2-CasavaOneEightSingleLanePerSampleDirFmt-hezu__sd/HSM-10_88_L001_R1_001.fastq.gz -p /var/folders/k7/wbr70tj56_n4y6h66kszvm2r0000gq/T/q2-CasavaOneEightSingleLanePerSampleDirFmt-hezu__sd/HSM-10_89_L001_R2_001.fastq.gz --front AATGATACGGCGACCACCGAGATCTACACGCTNNNNNNNNNNNNTATGGTAATTGTGTGYCAGCMGCCGCGGTAA -G CAAGCAGAAGACGGCATACGAGATAGTCAGCCAGCCGGACTACNVGGGTWTCTAAT /var/folders/k7/wbr70tj56_n4y6h66kszvm2r0000gq/T/qiime2-archive-vbrtelja/b057d45e-ed38-4056-88e8-a45fd5ccb7d7/data/HSM-10_88_L001_R1_001.fastq.gz /var/folders/k7/wbr70tj56_n4y6h66kszvm2r0000gq/T/qiime2-archive-vbrtelja/b057d45e-ed38-4056-88e8-a45fd5ccb7d7/data/HSM-10_89_L001_R2_001.fastq.gz\n",
      "\n",
      "\n",
      "Command: cutadapt --cores 8 --error-rate 0.1 --times 1 --overlap 3 -o /var/folders/k7/wbr70tj56_n4y6h66kszvm2r0000gq/T/q2-CasavaOneEightSingleLanePerSampleDirFmt-hezu__sd/HSM-11_90_L001_R1_001.fastq.gz -p /var/folders/k7/wbr70tj56_n4y6h66kszvm2r0000gq/T/q2-CasavaOneEightSingleLanePerSampleDirFmt-hezu__sd/HSM-11_91_L001_R2_001.fastq.gz --front AATGATACGGCGACCACCGAGATCTACACGCTNNNNNNNNNNNNTATGGTAATTGTGTGYCAGCMGCCGCGGTAA -G CAAGCAGAAGACGGCATACGAGATAGTCAGCCAGCCGGACTACNVGGGTWTCTAAT /var/folders/k7/wbr70tj56_n4y6h66kszvm2r0000gq/T/qiime2-archive-vbrtelja/b057d45e-ed38-4056-88e8-a45fd5ccb7d7/data/HSM-11_90_L001_R1_001.fastq.gz /var/folders/k7/wbr70tj56_n4y6h66kszvm2r0000gq/T/qiime2-archive-vbrtelja/b057d45e-ed38-4056-88e8-a45fd5ccb7d7/data/HSM-11_91_L001_R2_001.fastq.gz\n",
      "\n",
      "\n",
      "Command: cutadapt --cores 8 --error-rate 0.1 --times 1 --overlap 3 -o /var/folders/k7/wbr70tj56_n4y6h66kszvm2r0000gq/T/q2-CasavaOneEightSingleLanePerSampleDirFmt-hezu__sd/HSM-12_92_L001_R1_001.fastq.gz -p /var/folders/k7/wbr70tj56_n4y6h66kszvm2r0000gq/T/q2-CasavaOneEightSingleLanePerSampleDirFmt-hezu__sd/HSM-12_93_L001_R2_001.fastq.gz --front AATGATACGGCGACCACCGAGATCTACACGCTNNNNNNNNNNNNTATGGTAATTGTGTGYCAGCMGCCGCGGTAA -G CAAGCAGAAGACGGCATACGAGATAGTCAGCCAGCCGGACTACNVGGGTWTCTAAT /var/folders/k7/wbr70tj56_n4y6h66kszvm2r0000gq/T/qiime2-archive-vbrtelja/b057d45e-ed38-4056-88e8-a45fd5ccb7d7/data/HSM-12_92_L001_R1_001.fastq.gz /var/folders/k7/wbr70tj56_n4y6h66kszvm2r0000gq/T/qiime2-archive-vbrtelja/b057d45e-ed38-4056-88e8-a45fd5ccb7d7/data/HSM-12_93_L001_R2_001.fastq.gz\n",
      "\n",
      "\n",
      "Command: cutadapt --cores 8 --error-rate 0.1 --times 1 --overlap 3 -o /var/folders/k7/wbr70tj56_n4y6h66kszvm2r0000gq/T/q2-CasavaOneEightSingleLanePerSampleDirFmt-hezu__sd/HSM-2_94_L001_R1_001.fastq.gz -p /var/folders/k7/wbr70tj56_n4y6h66kszvm2r0000gq/T/q2-CasavaOneEightSingleLanePerSampleDirFmt-hezu__sd/HSM-2_95_L001_R2_001.fastq.gz --front AATGATACGGCGACCACCGAGATCTACACGCTNNNNNNNNNNNNTATGGTAATTGTGTGYCAGCMGCCGCGGTAA -G CAAGCAGAAGACGGCATACGAGATAGTCAGCCAGCCGGACTACNVGGGTWTCTAAT /var/folders/k7/wbr70tj56_n4y6h66kszvm2r0000gq/T/qiime2-archive-vbrtelja/b057d45e-ed38-4056-88e8-a45fd5ccb7d7/data/HSM-2_94_L001_R1_001.fastq.gz /var/folders/k7/wbr70tj56_n4y6h66kszvm2r0000gq/T/qiime2-archive-vbrtelja/b057d45e-ed38-4056-88e8-a45fd5ccb7d7/data/HSM-2_95_L001_R2_001.fastq.gz\n",
      "\n",
      "\n",
      "Command: cutadapt --cores 8 --error-rate 0.1 --times 1 --overlap 3 -o /var/folders/k7/wbr70tj56_n4y6h66kszvm2r0000gq/T/q2-CasavaOneEightSingleLanePerSampleDirFmt-hezu__sd/HSM-3_96_L001_R1_001.fastq.gz -p /var/folders/k7/wbr70tj56_n4y6h66kszvm2r0000gq/T/q2-CasavaOneEightSingleLanePerSampleDirFmt-hezu__sd/HSM-3_97_L001_R2_001.fastq.gz --front AATGATACGGCGACCACCGAGATCTACACGCTNNNNNNNNNNNNTATGGTAATTGTGTGYCAGCMGCCGCGGTAA -G CAAGCAGAAGACGGCATACGAGATAGTCAGCCAGCCGGACTACNVGGGTWTCTAAT /var/folders/k7/wbr70tj56_n4y6h66kszvm2r0000gq/T/qiime2-archive-vbrtelja/b057d45e-ed38-4056-88e8-a45fd5ccb7d7/data/HSM-3_96_L001_R1_001.fastq.gz /var/folders/k7/wbr70tj56_n4y6h66kszvm2r0000gq/T/qiime2-archive-vbrtelja/b057d45e-ed38-4056-88e8-a45fd5ccb7d7/data/HSM-3_97_L001_R2_001.fastq.gz\n",
      "\n",
      "\n",
      "Command: cutadapt --cores 8 --error-rate 0.1 --times 1 --overlap 3 -o /var/folders/k7/wbr70tj56_n4y6h66kszvm2r0000gq/T/q2-CasavaOneEightSingleLanePerSampleDirFmt-hezu__sd/HSM-4_98_L001_R1_001.fastq.gz -p /var/folders/k7/wbr70tj56_n4y6h66kszvm2r0000gq/T/q2-CasavaOneEightSingleLanePerSampleDirFmt-hezu__sd/HSM-4_99_L001_R2_001.fastq.gz --front AATGATACGGCGACCACCGAGATCTACACGCTNNNNNNNNNNNNTATGGTAATTGTGTGYCAGCMGCCGCGGTAA -G CAAGCAGAAGACGGCATACGAGATAGTCAGCCAGCCGGACTACNVGGGTWTCTAAT /var/folders/k7/wbr70tj56_n4y6h66kszvm2r0000gq/T/qiime2-archive-vbrtelja/b057d45e-ed38-4056-88e8-a45fd5ccb7d7/data/HSM-4_98_L001_R1_001.fastq.gz /var/folders/k7/wbr70tj56_n4y6h66kszvm2r0000gq/T/qiime2-archive-vbrtelja/b057d45e-ed38-4056-88e8-a45fd5ccb7d7/data/HSM-4_99_L001_R2_001.fastq.gz\n",
      "\n",
      "\n",
      "Command: cutadapt --cores 8 --error-rate 0.1 --times 1 --overlap 3 -o /var/folders/k7/wbr70tj56_n4y6h66kszvm2r0000gq/T/q2-CasavaOneEightSingleLanePerSampleDirFmt-hezu__sd/HSM-5_100_L001_R1_001.fastq.gz -p /var/folders/k7/wbr70tj56_n4y6h66kszvm2r0000gq/T/q2-CasavaOneEightSingleLanePerSampleDirFmt-hezu__sd/HSM-5_101_L001_R2_001.fastq.gz --front AATGATACGGCGACCACCGAGATCTACACGCTNNNNNNNNNNNNTATGGTAATTGTGTGYCAGCMGCCGCGGTAA -G CAAGCAGAAGACGGCATACGAGATAGTCAGCCAGCCGGACTACNVGGGTWTCTAAT /var/folders/k7/wbr70tj56_n4y6h66kszvm2r0000gq/T/qiime2-archive-vbrtelja/b057d45e-ed38-4056-88e8-a45fd5ccb7d7/data/HSM-5_100_L001_R1_001.fastq.gz /var/folders/k7/wbr70tj56_n4y6h66kszvm2r0000gq/T/qiime2-archive-vbrtelja/b057d45e-ed38-4056-88e8-a45fd5ccb7d7/data/HSM-5_101_L001_R2_001.fastq.gz\n",
      "\n",
      "\n",
      "Command: cutadapt --cores 8 --error-rate 0.1 --times 1 --overlap 3 -o /var/folders/k7/wbr70tj56_n4y6h66kszvm2r0000gq/T/q2-CasavaOneEightSingleLanePerSampleDirFmt-hezu__sd/HSM-6_102_L001_R1_001.fastq.gz -p /var/folders/k7/wbr70tj56_n4y6h66kszvm2r0000gq/T/q2-CasavaOneEightSingleLanePerSampleDirFmt-hezu__sd/HSM-6_103_L001_R2_001.fastq.gz --front AATGATACGGCGACCACCGAGATCTACACGCTNNNNNNNNNNNNTATGGTAATTGTGTGYCAGCMGCCGCGGTAA -G CAAGCAGAAGACGGCATACGAGATAGTCAGCCAGCCGGACTACNVGGGTWTCTAAT /var/folders/k7/wbr70tj56_n4y6h66kszvm2r0000gq/T/qiime2-archive-vbrtelja/b057d45e-ed38-4056-88e8-a45fd5ccb7d7/data/HSM-6_102_L001_R1_001.fastq.gz /var/folders/k7/wbr70tj56_n4y6h66kszvm2r0000gq/T/qiime2-archive-vbrtelja/b057d45e-ed38-4056-88e8-a45fd5ccb7d7/data/HSM-6_103_L001_R2_001.fastq.gz\n",
      "\n",
      "\n",
      "Command: cutadapt --cores 8 --error-rate 0.1 --times 1 --overlap 3 -o /var/folders/k7/wbr70tj56_n4y6h66kszvm2r0000gq/T/q2-CasavaOneEightSingleLanePerSampleDirFmt-hezu__sd/HSM-7_104_L001_R1_001.fastq.gz -p /var/folders/k7/wbr70tj56_n4y6h66kszvm2r0000gq/T/q2-CasavaOneEightSingleLanePerSampleDirFmt-hezu__sd/HSM-7_105_L001_R2_001.fastq.gz --front AATGATACGGCGACCACCGAGATCTACACGCTNNNNNNNNNNNNTATGGTAATTGTGTGYCAGCMGCCGCGGTAA -G CAAGCAGAAGACGGCATACGAGATAGTCAGCCAGCCGGACTACNVGGGTWTCTAAT /var/folders/k7/wbr70tj56_n4y6h66kszvm2r0000gq/T/qiime2-archive-vbrtelja/b057d45e-ed38-4056-88e8-a45fd5ccb7d7/data/HSM-7_104_L001_R1_001.fastq.gz /var/folders/k7/wbr70tj56_n4y6h66kszvm2r0000gq/T/qiime2-archive-vbrtelja/b057d45e-ed38-4056-88e8-a45fd5ccb7d7/data/HSM-7_105_L001_R2_001.fastq.gz\n",
      "\n",
      "\n",
      "Command: cutadapt --cores 8 --error-rate 0.1 --times 1 --overlap 3 -o /var/folders/k7/wbr70tj56_n4y6h66kszvm2r0000gq/T/q2-CasavaOneEightSingleLanePerSampleDirFmt-hezu__sd/HSM-8_106_L001_R1_001.fastq.gz -p /var/folders/k7/wbr70tj56_n4y6h66kszvm2r0000gq/T/q2-CasavaOneEightSingleLanePerSampleDirFmt-hezu__sd/HSM-8_107_L001_R2_001.fastq.gz --front AATGATACGGCGACCACCGAGATCTACACGCTNNNNNNNNNNNNTATGGTAATTGTGTGYCAGCMGCCGCGGTAA -G CAAGCAGAAGACGGCATACGAGATAGTCAGCCAGCCGGACTACNVGGGTWTCTAAT /var/folders/k7/wbr70tj56_n4y6h66kszvm2r0000gq/T/qiime2-archive-vbrtelja/b057d45e-ed38-4056-88e8-a45fd5ccb7d7/data/HSM-8_106_L001_R1_001.fastq.gz /var/folders/k7/wbr70tj56_n4y6h66kszvm2r0000gq/T/qiime2-archive-vbrtelja/b057d45e-ed38-4056-88e8-a45fd5ccb7d7/data/HSM-8_107_L001_R2_001.fastq.gz\n",
      "\n",
      "\n",
      "Command: cutadapt --cores 8 --error-rate 0.1 --times 1 --overlap 3 -o /var/folders/k7/wbr70tj56_n4y6h66kszvm2r0000gq/T/q2-CasavaOneEightSingleLanePerSampleDirFmt-hezu__sd/HSM-9_108_L001_R1_001.fastq.gz -p /var/folders/k7/wbr70tj56_n4y6h66kszvm2r0000gq/T/q2-CasavaOneEightSingleLanePerSampleDirFmt-hezu__sd/HSM-9_109_L001_R2_001.fastq.gz --front AATGATACGGCGACCACCGAGATCTACACGCTNNNNNNNNNNNNTATGGTAATTGTGTGYCAGCMGCCGCGGTAA -G CAAGCAGAAGACGGCATACGAGATAGTCAGCCAGCCGGACTACNVGGGTWTCTAAT /var/folders/k7/wbr70tj56_n4y6h66kszvm2r0000gq/T/qiime2-archive-vbrtelja/b057d45e-ed38-4056-88e8-a45fd5ccb7d7/data/HSM-9_108_L001_R1_001.fastq.gz /var/folders/k7/wbr70tj56_n4y6h66kszvm2r0000gq/T/qiime2-archive-vbrtelja/b057d45e-ed38-4056-88e8-a45fd5ccb7d7/data/HSM-9_109_L001_R2_001.fastq.gz\n",
      "\n",
      "\n",
      "Command: cutadapt --cores 8 --error-rate 0.1 --times 1 --overlap 3 -o /var/folders/k7/wbr70tj56_n4y6h66kszvm2r0000gq/T/q2-CasavaOneEightSingleLanePerSampleDirFmt-hezu__sd/MYC2OX-1_110_L001_R1_001.fastq.gz -p /var/folders/k7/wbr70tj56_n4y6h66kszvm2r0000gq/T/q2-CasavaOneEightSingleLanePerSampleDirFmt-hezu__sd/MYC2OX-1_111_L001_R2_001.fastq.gz --front AATGATACGGCGACCACCGAGATCTACACGCTNNNNNNNNNNNNTATGGTAATTGTGTGYCAGCMGCCGCGGTAA -G CAAGCAGAAGACGGCATACGAGATAGTCAGCCAGCCGGACTACNVGGGTWTCTAAT /var/folders/k7/wbr70tj56_n4y6h66kszvm2r0000gq/T/qiime2-archive-vbrtelja/b057d45e-ed38-4056-88e8-a45fd5ccb7d7/data/MYC2OX-1_110_L001_R1_001.fastq.gz /var/folders/k7/wbr70tj56_n4y6h66kszvm2r0000gq/T/qiime2-archive-vbrtelja/b057d45e-ed38-4056-88e8-a45fd5ccb7d7/data/MYC2OX-1_111_L001_R2_001.fastq.gz\n",
      "\n",
      "\n",
      "Command: cutadapt --cores 8 --error-rate 0.1 --times 1 --overlap 3 -o /var/folders/k7/wbr70tj56_n4y6h66kszvm2r0000gq/T/q2-CasavaOneEightSingleLanePerSampleDirFmt-hezu__sd/MYC2OX-2_112_L001_R1_001.fastq.gz -p /var/folders/k7/wbr70tj56_n4y6h66kszvm2r0000gq/T/q2-CasavaOneEightSingleLanePerSampleDirFmt-hezu__sd/MYC2OX-2_113_L001_R2_001.fastq.gz --front AATGATACGGCGACCACCGAGATCTACACGCTNNNNNNNNNNNNTATGGTAATTGTGTGYCAGCMGCCGCGGTAA -G CAAGCAGAAGACGGCATACGAGATAGTCAGCCAGCCGGACTACNVGGGTWTCTAAT /var/folders/k7/wbr70tj56_n4y6h66kszvm2r0000gq/T/qiime2-archive-vbrtelja/b057d45e-ed38-4056-88e8-a45fd5ccb7d7/data/MYC2OX-2_112_L001_R1_001.fastq.gz /var/folders/k7/wbr70tj56_n4y6h66kszvm2r0000gq/T/qiime2-archive-vbrtelja/b057d45e-ed38-4056-88e8-a45fd5ccb7d7/data/MYC2OX-2_113_L001_R2_001.fastq.gz\n",
      "\n",
      "\n",
      "Command: cutadapt --cores 8 --error-rate 0.1 --times 1 --overlap 3 -o /var/folders/k7/wbr70tj56_n4y6h66kszvm2r0000gq/T/q2-CasavaOneEightSingleLanePerSampleDirFmt-hezu__sd/MYC2OX-3_114_L001_R1_001.fastq.gz -p /var/folders/k7/wbr70tj56_n4y6h66kszvm2r0000gq/T/q2-CasavaOneEightSingleLanePerSampleDirFmt-hezu__sd/MYC2OX-3_115_L001_R2_001.fastq.gz --front AATGATACGGCGACCACCGAGATCTACACGCTNNNNNNNNNNNNTATGGTAATTGTGTGYCAGCMGCCGCGGTAA -G CAAGCAGAAGACGGCATACGAGATAGTCAGCCAGCCGGACTACNVGGGTWTCTAAT /var/folders/k7/wbr70tj56_n4y6h66kszvm2r0000gq/T/qiime2-archive-vbrtelja/b057d45e-ed38-4056-88e8-a45fd5ccb7d7/data/MYC2OX-3_114_L001_R1_001.fastq.gz /var/folders/k7/wbr70tj56_n4y6h66kszvm2r0000gq/T/qiime2-archive-vbrtelja/b057d45e-ed38-4056-88e8-a45fd5ccb7d7/data/MYC2OX-3_115_L001_R2_001.fastq.gz\n",
      "\n",
      "\n",
      "Command: cutadapt --cores 8 --error-rate 0.1 --times 1 --overlap 3 -o /var/folders/k7/wbr70tj56_n4y6h66kszvm2r0000gq/T/q2-CasavaOneEightSingleLanePerSampleDirFmt-hezu__sd/MYC2OX-4_116_L001_R1_001.fastq.gz -p /var/folders/k7/wbr70tj56_n4y6h66kszvm2r0000gq/T/q2-CasavaOneEightSingleLanePerSampleDirFmt-hezu__sd/MYC2OX-4_117_L001_R2_001.fastq.gz --front AATGATACGGCGACCACCGAGATCTACACGCTNNNNNNNNNNNNTATGGTAATTGTGTGYCAGCMGCCGCGGTAA -G CAAGCAGAAGACGGCATACGAGATAGTCAGCCAGCCGGACTACNVGGGTWTCTAAT /var/folders/k7/wbr70tj56_n4y6h66kszvm2r0000gq/T/qiime2-archive-vbrtelja/b057d45e-ed38-4056-88e8-a45fd5ccb7d7/data/MYC2OX-4_116_L001_R1_001.fastq.gz /var/folders/k7/wbr70tj56_n4y6h66kszvm2r0000gq/T/qiime2-archive-vbrtelja/b057d45e-ed38-4056-88e8-a45fd5ccb7d7/data/MYC2OX-4_117_L001_R2_001.fastq.gz\n",
      "\n",
      "\n",
      "Command: cutadapt --cores 8 --error-rate 0.1 --times 1 --overlap 3 -o /var/folders/k7/wbr70tj56_n4y6h66kszvm2r0000gq/T/q2-CasavaOneEightSingleLanePerSampleDirFmt-hezu__sd/MYC2OX-5_118_L001_R1_001.fastq.gz -p /var/folders/k7/wbr70tj56_n4y6h66kszvm2r0000gq/T/q2-CasavaOneEightSingleLanePerSampleDirFmt-hezu__sd/MYC2OX-5_119_L001_R2_001.fastq.gz --front AATGATACGGCGACCACCGAGATCTACACGCTNNNNNNNNNNNNTATGGTAATTGTGTGYCAGCMGCCGCGGTAA -G CAAGCAGAAGACGGCATACGAGATAGTCAGCCAGCCGGACTACNVGGGTWTCTAAT /var/folders/k7/wbr70tj56_n4y6h66kszvm2r0000gq/T/qiime2-archive-vbrtelja/b057d45e-ed38-4056-88e8-a45fd5ccb7d7/data/MYC2OX-5_118_L001_R1_001.fastq.gz /var/folders/k7/wbr70tj56_n4y6h66kszvm2r0000gq/T/qiime2-archive-vbrtelja/b057d45e-ed38-4056-88e8-a45fd5ccb7d7/data/MYC2OX-5_119_L001_R2_001.fastq.gz\n",
      "\n",
      "\n",
      "Command: cutadapt --cores 8 --error-rate 0.1 --times 1 --overlap 3 -o /var/folders/k7/wbr70tj56_n4y6h66kszvm2r0000gq/T/q2-CasavaOneEightSingleLanePerSampleDirFmt-hezu__sd/MYC2OX-6_120_L001_R1_001.fastq.gz -p /var/folders/k7/wbr70tj56_n4y6h66kszvm2r0000gq/T/q2-CasavaOneEightSingleLanePerSampleDirFmt-hezu__sd/MYC2OX-6_121_L001_R2_001.fastq.gz --front AATGATACGGCGACCACCGAGATCTACACGCTNNNNNNNNNNNNTATGGTAATTGTGTGYCAGCMGCCGCGGTAA -G CAAGCAGAAGACGGCATACGAGATAGTCAGCCAGCCGGACTACNVGGGTWTCTAAT /var/folders/k7/wbr70tj56_n4y6h66kszvm2r0000gq/T/qiime2-archive-vbrtelja/b057d45e-ed38-4056-88e8-a45fd5ccb7d7/data/MYC2OX-6_120_L001_R1_001.fastq.gz /var/folders/k7/wbr70tj56_n4y6h66kszvm2r0000gq/T/qiime2-archive-vbrtelja/b057d45e-ed38-4056-88e8-a45fd5ccb7d7/data/MYC2OX-6_121_L001_R2_001.fastq.gz\n",
      "\n",
      "\n",
      "Command: cutadapt --cores 8 --error-rate 0.1 --times 1 --overlap 3 -o /var/folders/k7/wbr70tj56_n4y6h66kszvm2r0000gq/T/q2-CasavaOneEightSingleLanePerSampleDirFmt-hezu__sd/MYC2OX-7_122_L001_R1_001.fastq.gz -p /var/folders/k7/wbr70tj56_n4y6h66kszvm2r0000gq/T/q2-CasavaOneEightSingleLanePerSampleDirFmt-hezu__sd/MYC2OX-7_123_L001_R2_001.fastq.gz --front AATGATACGGCGACCACCGAGATCTACACGCTNNNNNNNNNNNNTATGGTAATTGTGTGYCAGCMGCCGCGGTAA -G CAAGCAGAAGACGGCATACGAGATAGTCAGCCAGCCGGACTACNVGGGTWTCTAAT /var/folders/k7/wbr70tj56_n4y6h66kszvm2r0000gq/T/qiime2-archive-vbrtelja/b057d45e-ed38-4056-88e8-a45fd5ccb7d7/data/MYC2OX-7_122_L001_R1_001.fastq.gz /var/folders/k7/wbr70tj56_n4y6h66kszvm2r0000gq/T/qiime2-archive-vbrtelja/b057d45e-ed38-4056-88e8-a45fd5ccb7d7/data/MYC2OX-7_123_L001_R2_001.fastq.gz\n",
      "\n",
      "\n",
      "Command: cutadapt --cores 8 --error-rate 0.1 --times 1 --overlap 3 -o /var/folders/k7/wbr70tj56_n4y6h66kszvm2r0000gq/T/q2-CasavaOneEightSingleLanePerSampleDirFmt-hezu__sd/MYC2OX-8_124_L001_R1_001.fastq.gz -p /var/folders/k7/wbr70tj56_n4y6h66kszvm2r0000gq/T/q2-CasavaOneEightSingleLanePerSampleDirFmt-hezu__sd/MYC2OX-8_125_L001_R2_001.fastq.gz --front AATGATACGGCGACCACCGAGATCTACACGCTNNNNNNNNNNNNTATGGTAATTGTGTGYCAGCMGCCGCGGTAA -G CAAGCAGAAGACGGCATACGAGATAGTCAGCCAGCCGGACTACNVGGGTWTCTAAT /var/folders/k7/wbr70tj56_n4y6h66kszvm2r0000gq/T/qiime2-archive-vbrtelja/b057d45e-ed38-4056-88e8-a45fd5ccb7d7/data/MYC2OX-8_124_L001_R1_001.fastq.gz /var/folders/k7/wbr70tj56_n4y6h66kszvm2r0000gq/T/qiime2-archive-vbrtelja/b057d45e-ed38-4056-88e8-a45fd5ccb7d7/data/MYC2OX-8_125_L001_R2_001.fastq.gz\n",
      "\n",
      "\n",
      "Command: cutadapt --cores 8 --error-rate 0.1 --times 1 --overlap 3 -o /var/folders/k7/wbr70tj56_n4y6h66kszvm2r0000gq/T/q2-CasavaOneEightSingleLanePerSampleDirFmt-hezu__sd/MYC2OX-9_126_L001_R1_001.fastq.gz -p /var/folders/k7/wbr70tj56_n4y6h66kszvm2r0000gq/T/q2-CasavaOneEightSingleLanePerSampleDirFmt-hezu__sd/MYC2OX-9_127_L001_R2_001.fastq.gz --front AATGATACGGCGACCACCGAGATCTACACGCTNNNNNNNNNNNNTATGGTAATTGTGTGYCAGCMGCCGCGGTAA -G CAAGCAGAAGACGGCATACGAGATAGTCAGCCAGCCGGACTACNVGGGTWTCTAAT /var/folders/k7/wbr70tj56_n4y6h66kszvm2r0000gq/T/qiime2-archive-vbrtelja/b057d45e-ed38-4056-88e8-a45fd5ccb7d7/data/MYC2OX-9_126_L001_R1_001.fastq.gz /var/folders/k7/wbr70tj56_n4y6h66kszvm2r0000gq/T/qiime2-archive-vbrtelja/b057d45e-ed38-4056-88e8-a45fd5ccb7d7/data/MYC2OX-9_127_L001_R2_001.fastq.gz\n",
      "\n",
      "\n",
      "Command: cutadapt --cores 8 --error-rate 0.1 --times 1 --overlap 3 -o /var/folders/k7/wbr70tj56_n4y6h66kszvm2r0000gq/T/q2-CasavaOneEightSingleLanePerSampleDirFmt-hezu__sd/W-Col0-1_128_L001_R1_001.fastq.gz -p /var/folders/k7/wbr70tj56_n4y6h66kszvm2r0000gq/T/q2-CasavaOneEightSingleLanePerSampleDirFmt-hezu__sd/W-Col0-1_129_L001_R2_001.fastq.gz --front AATGATACGGCGACCACCGAGATCTACACGCTNNNNNNNNNNNNTATGGTAATTGTGTGYCAGCMGCCGCGGTAA -G CAAGCAGAAGACGGCATACGAGATAGTCAGCCAGCCGGACTACNVGGGTWTCTAAT /var/folders/k7/wbr70tj56_n4y6h66kszvm2r0000gq/T/qiime2-archive-vbrtelja/b057d45e-ed38-4056-88e8-a45fd5ccb7d7/data/W-Col0-1_128_L001_R1_001.fastq.gz /var/folders/k7/wbr70tj56_n4y6h66kszvm2r0000gq/T/qiime2-archive-vbrtelja/b057d45e-ed38-4056-88e8-a45fd5ccb7d7/data/W-Col0-1_129_L001_R2_001.fastq.gz\n",
      "\n",
      "\n",
      "Command: cutadapt --cores 8 --error-rate 0.1 --times 1 --overlap 3 -o /var/folders/k7/wbr70tj56_n4y6h66kszvm2r0000gq/T/q2-CasavaOneEightSingleLanePerSampleDirFmt-hezu__sd/W-Col0-10_130_L001_R1_001.fastq.gz -p /var/folders/k7/wbr70tj56_n4y6h66kszvm2r0000gq/T/q2-CasavaOneEightSingleLanePerSampleDirFmt-hezu__sd/W-Col0-10_131_L001_R2_001.fastq.gz --front AATGATACGGCGACCACCGAGATCTACACGCTNNNNNNNNNNNNTATGGTAATTGTGTGYCAGCMGCCGCGGTAA -G CAAGCAGAAGACGGCATACGAGATAGTCAGCCAGCCGGACTACNVGGGTWTCTAAT /var/folders/k7/wbr70tj56_n4y6h66kszvm2r0000gq/T/qiime2-archive-vbrtelja/b057d45e-ed38-4056-88e8-a45fd5ccb7d7/data/W-Col0-10_130_L001_R1_001.fastq.gz /var/folders/k7/wbr70tj56_n4y6h66kszvm2r0000gq/T/qiime2-archive-vbrtelja/b057d45e-ed38-4056-88e8-a45fd5ccb7d7/data/W-Col0-10_131_L001_R2_001.fastq.gz\n",
      "\n",
      "\n",
      "Command: cutadapt --cores 8 --error-rate 0.1 --times 1 --overlap 3 -o /var/folders/k7/wbr70tj56_n4y6h66kszvm2r0000gq/T/q2-CasavaOneEightSingleLanePerSampleDirFmt-hezu__sd/W-Col0-2_132_L001_R1_001.fastq.gz -p /var/folders/k7/wbr70tj56_n4y6h66kszvm2r0000gq/T/q2-CasavaOneEightSingleLanePerSampleDirFmt-hezu__sd/W-Col0-2_133_L001_R2_001.fastq.gz --front AATGATACGGCGACCACCGAGATCTACACGCTNNNNNNNNNNNNTATGGTAATTGTGTGYCAGCMGCCGCGGTAA -G CAAGCAGAAGACGGCATACGAGATAGTCAGCCAGCCGGACTACNVGGGTWTCTAAT /var/folders/k7/wbr70tj56_n4y6h66kszvm2r0000gq/T/qiime2-archive-vbrtelja/b057d45e-ed38-4056-88e8-a45fd5ccb7d7/data/W-Col0-2_132_L001_R1_001.fastq.gz /var/folders/k7/wbr70tj56_n4y6h66kszvm2r0000gq/T/qiime2-archive-vbrtelja/b057d45e-ed38-4056-88e8-a45fd5ccb7d7/data/W-Col0-2_133_L001_R2_001.fastq.gz\n",
      "\n",
      "\n",
      "Command: cutadapt --cores 8 --error-rate 0.1 --times 1 --overlap 3 -o /var/folders/k7/wbr70tj56_n4y6h66kszvm2r0000gq/T/q2-CasavaOneEightSingleLanePerSampleDirFmt-hezu__sd/W-Col0-3_134_L001_R1_001.fastq.gz -p /var/folders/k7/wbr70tj56_n4y6h66kszvm2r0000gq/T/q2-CasavaOneEightSingleLanePerSampleDirFmt-hezu__sd/W-Col0-3_135_L001_R2_001.fastq.gz --front AATGATACGGCGACCACCGAGATCTACACGCTNNNNNNNNNNNNTATGGTAATTGTGTGYCAGCMGCCGCGGTAA -G CAAGCAGAAGACGGCATACGAGATAGTCAGCCAGCCGGACTACNVGGGTWTCTAAT /var/folders/k7/wbr70tj56_n4y6h66kszvm2r0000gq/T/qiime2-archive-vbrtelja/b057d45e-ed38-4056-88e8-a45fd5ccb7d7/data/W-Col0-3_134_L001_R1_001.fastq.gz /var/folders/k7/wbr70tj56_n4y6h66kszvm2r0000gq/T/qiime2-archive-vbrtelja/b057d45e-ed38-4056-88e8-a45fd5ccb7d7/data/W-Col0-3_135_L001_R2_001.fastq.gz\n",
      "\n",
      "\n",
      "Command: cutadapt --cores 8 --error-rate 0.1 --times 1 --overlap 3 -o /var/folders/k7/wbr70tj56_n4y6h66kszvm2r0000gq/T/q2-CasavaOneEightSingleLanePerSampleDirFmt-hezu__sd/W-Col0-4_136_L001_R1_001.fastq.gz -p /var/folders/k7/wbr70tj56_n4y6h66kszvm2r0000gq/T/q2-CasavaOneEightSingleLanePerSampleDirFmt-hezu__sd/W-Col0-4_137_L001_R2_001.fastq.gz --front AATGATACGGCGACCACCGAGATCTACACGCTNNNNNNNNNNNNTATGGTAATTGTGTGYCAGCMGCCGCGGTAA -G CAAGCAGAAGACGGCATACGAGATAGTCAGCCAGCCGGACTACNVGGGTWTCTAAT /var/folders/k7/wbr70tj56_n4y6h66kszvm2r0000gq/T/qiime2-archive-vbrtelja/b057d45e-ed38-4056-88e8-a45fd5ccb7d7/data/W-Col0-4_136_L001_R1_001.fastq.gz /var/folders/k7/wbr70tj56_n4y6h66kszvm2r0000gq/T/qiime2-archive-vbrtelja/b057d45e-ed38-4056-88e8-a45fd5ccb7d7/data/W-Col0-4_137_L001_R2_001.fastq.gz\n",
      "\n",
      "\n",
      "Command: cutadapt --cores 8 --error-rate 0.1 --times 1 --overlap 3 -o /var/folders/k7/wbr70tj56_n4y6h66kszvm2r0000gq/T/q2-CasavaOneEightSingleLanePerSampleDirFmt-hezu__sd/W-Col0-5_138_L001_R1_001.fastq.gz -p /var/folders/k7/wbr70tj56_n4y6h66kszvm2r0000gq/T/q2-CasavaOneEightSingleLanePerSampleDirFmt-hezu__sd/W-Col0-5_139_L001_R2_001.fastq.gz --front AATGATACGGCGACCACCGAGATCTACACGCTNNNNNNNNNNNNTATGGTAATTGTGTGYCAGCMGCCGCGGTAA -G CAAGCAGAAGACGGCATACGAGATAGTCAGCCAGCCGGACTACNVGGGTWTCTAAT /var/folders/k7/wbr70tj56_n4y6h66kszvm2r0000gq/T/qiime2-archive-vbrtelja/b057d45e-ed38-4056-88e8-a45fd5ccb7d7/data/W-Col0-5_138_L001_R1_001.fastq.gz /var/folders/k7/wbr70tj56_n4y6h66kszvm2r0000gq/T/qiime2-archive-vbrtelja/b057d45e-ed38-4056-88e8-a45fd5ccb7d7/data/W-Col0-5_139_L001_R2_001.fastq.gz\n",
      "\n",
      "\n",
      "Command: cutadapt --cores 8 --error-rate 0.1 --times 1 --overlap 3 -o /var/folders/k7/wbr70tj56_n4y6h66kszvm2r0000gq/T/q2-CasavaOneEightSingleLanePerSampleDirFmt-hezu__sd/W-Col0-6_140_L001_R1_001.fastq.gz -p /var/folders/k7/wbr70tj56_n4y6h66kszvm2r0000gq/T/q2-CasavaOneEightSingleLanePerSampleDirFmt-hezu__sd/W-Col0-6_141_L001_R2_001.fastq.gz --front AATGATACGGCGACCACCGAGATCTACACGCTNNNNNNNNNNNNTATGGTAATTGTGTGYCAGCMGCCGCGGTAA -G CAAGCAGAAGACGGCATACGAGATAGTCAGCCAGCCGGACTACNVGGGTWTCTAAT /var/folders/k7/wbr70tj56_n4y6h66kszvm2r0000gq/T/qiime2-archive-vbrtelja/b057d45e-ed38-4056-88e8-a45fd5ccb7d7/data/W-Col0-6_140_L001_R1_001.fastq.gz /var/folders/k7/wbr70tj56_n4y6h66kszvm2r0000gq/T/qiime2-archive-vbrtelja/b057d45e-ed38-4056-88e8-a45fd5ccb7d7/data/W-Col0-6_141_L001_R2_001.fastq.gz\n",
      "\n",
      "\n",
      "Command: cutadapt --cores 8 --error-rate 0.1 --times 1 --overlap 3 -o /var/folders/k7/wbr70tj56_n4y6h66kszvm2r0000gq/T/q2-CasavaOneEightSingleLanePerSampleDirFmt-hezu__sd/W-Col0-7_142_L001_R1_001.fastq.gz -p /var/folders/k7/wbr70tj56_n4y6h66kszvm2r0000gq/T/q2-CasavaOneEightSingleLanePerSampleDirFmt-hezu__sd/W-Col0-7_143_L001_R2_001.fastq.gz --front AATGATACGGCGACCACCGAGATCTACACGCTNNNNNNNNNNNNTATGGTAATTGTGTGYCAGCMGCCGCGGTAA -G CAAGCAGAAGACGGCATACGAGATAGTCAGCCAGCCGGACTACNVGGGTWTCTAAT /var/folders/k7/wbr70tj56_n4y6h66kszvm2r0000gq/T/qiime2-archive-vbrtelja/b057d45e-ed38-4056-88e8-a45fd5ccb7d7/data/W-Col0-7_142_L001_R1_001.fastq.gz /var/folders/k7/wbr70tj56_n4y6h66kszvm2r0000gq/T/qiime2-archive-vbrtelja/b057d45e-ed38-4056-88e8-a45fd5ccb7d7/data/W-Col0-7_143_L001_R2_001.fastq.gz\n",
      "\n",
      "\n",
      "Command: cutadapt --cores 8 --error-rate 0.1 --times 1 --overlap 3 -o /var/folders/k7/wbr70tj56_n4y6h66kszvm2r0000gq/T/q2-CasavaOneEightSingleLanePerSampleDirFmt-hezu__sd/W-Col0-8_144_L001_R1_001.fastq.gz -p /var/folders/k7/wbr70tj56_n4y6h66kszvm2r0000gq/T/q2-CasavaOneEightSingleLanePerSampleDirFmt-hezu__sd/W-Col0-8_145_L001_R2_001.fastq.gz --front AATGATACGGCGACCACCGAGATCTACACGCTNNNNNNNNNNNNTATGGTAATTGTGTGYCAGCMGCCGCGGTAA -G CAAGCAGAAGACGGCATACGAGATAGTCAGCCAGCCGGACTACNVGGGTWTCTAAT /var/folders/k7/wbr70tj56_n4y6h66kszvm2r0000gq/T/qiime2-archive-vbrtelja/b057d45e-ed38-4056-88e8-a45fd5ccb7d7/data/W-Col0-8_144_L001_R1_001.fastq.gz /var/folders/k7/wbr70tj56_n4y6h66kszvm2r0000gq/T/qiime2-archive-vbrtelja/b057d45e-ed38-4056-88e8-a45fd5ccb7d7/data/W-Col0-8_145_L001_R2_001.fastq.gz\n",
      "\n",
      "\n",
      "Command: cutadapt --cores 8 --error-rate 0.1 --times 1 --overlap 3 -o /var/folders/k7/wbr70tj56_n4y6h66kszvm2r0000gq/T/q2-CasavaOneEightSingleLanePerSampleDirFmt-hezu__sd/W-Col0-9_146_L001_R1_001.fastq.gz -p /var/folders/k7/wbr70tj56_n4y6h66kszvm2r0000gq/T/q2-CasavaOneEightSingleLanePerSampleDirFmt-hezu__sd/W-Col0-9_147_L001_R2_001.fastq.gz --front AATGATACGGCGACCACCGAGATCTACACGCTNNNNNNNNNNNNTATGGTAATTGTGTGYCAGCMGCCGCGGTAA -G CAAGCAGAAGACGGCATACGAGATAGTCAGCCAGCCGGACTACNVGGGTWTCTAAT /var/folders/k7/wbr70tj56_n4y6h66kszvm2r0000gq/T/qiime2-archive-vbrtelja/b057d45e-ed38-4056-88e8-a45fd5ccb7d7/data/W-Col0-9_146_L001_R1_001.fastq.gz /var/folders/k7/wbr70tj56_n4y6h66kszvm2r0000gq/T/qiime2-archive-vbrtelja/b057d45e-ed38-4056-88e8-a45fd5ccb7d7/data/W-Col0-9_147_L001_R2_001.fastq.gz\n",
      "\n",
      "\n",
      "Command: cutadapt --cores 8 --error-rate 0.1 --times 1 --overlap 3 -o /var/folders/k7/wbr70tj56_n4y6h66kszvm2r0000gq/T/q2-CasavaOneEightSingleLanePerSampleDirFmt-hezu__sd/W-coi1-10_148_L001_R1_001.fastq.gz -p /var/folders/k7/wbr70tj56_n4y6h66kszvm2r0000gq/T/q2-CasavaOneEightSingleLanePerSampleDirFmt-hezu__sd/W-coi1-10_149_L001_R2_001.fastq.gz --front AATGATACGGCGACCACCGAGATCTACACGCTNNNNNNNNNNNNTATGGTAATTGTGTGYCAGCMGCCGCGGTAA -G CAAGCAGAAGACGGCATACGAGATAGTCAGCCAGCCGGACTACNVGGGTWTCTAAT /var/folders/k7/wbr70tj56_n4y6h66kszvm2r0000gq/T/qiime2-archive-vbrtelja/b057d45e-ed38-4056-88e8-a45fd5ccb7d7/data/W-coi1-10_148_L001_R1_001.fastq.gz /var/folders/k7/wbr70tj56_n4y6h66kszvm2r0000gq/T/qiime2-archive-vbrtelja/b057d45e-ed38-4056-88e8-a45fd5ccb7d7/data/W-coi1-10_149_L001_R2_001.fastq.gz\n",
      "\n",
      "\n",
      "Command: cutadapt --cores 8 --error-rate 0.1 --times 1 --overlap 3 -o /var/folders/k7/wbr70tj56_n4y6h66kszvm2r0000gq/T/q2-CasavaOneEightSingleLanePerSampleDirFmt-hezu__sd/W-coi1-9_150_L001_R1_001.fastq.gz -p /var/folders/k7/wbr70tj56_n4y6h66kszvm2r0000gq/T/q2-CasavaOneEightSingleLanePerSampleDirFmt-hezu__sd/W-coi1-9_151_L001_R2_001.fastq.gz --front AATGATACGGCGACCACCGAGATCTACACGCTNNNNNNNNNNNNTATGGTAATTGTGTGYCAGCMGCCGCGGTAA -G CAAGCAGAAGACGGCATACGAGATAGTCAGCCAGCCGGACTACNVGGGTWTCTAAT /var/folders/k7/wbr70tj56_n4y6h66kszvm2r0000gq/T/qiime2-archive-vbrtelja/b057d45e-ed38-4056-88e8-a45fd5ccb7d7/data/W-coi1-9_150_L001_R1_001.fastq.gz /var/folders/k7/wbr70tj56_n4y6h66kszvm2r0000gq/T/qiime2-archive-vbrtelja/b057d45e-ed38-4056-88e8-a45fd5ccb7d7/data/W-coi1-9_151_L001_R2_001.fastq.gz\n",
      "\n"
     ]
    },
    {
     "data": {
      "text/plain": [
       "'dada2/trimmed_seqs.qza'"
      ]
     },
     "execution_count": 8,
     "metadata": {},
     "output_type": "execute_result"
    }
   ],
   "source": [
    "from qiime2 import Artifact\n",
    "from qiime2.plugins.cutadapt.methods import trim_paired\n",
    "\n",
    "demuxed_seqs = Artifact.load(\"demux.qza\")\n",
    "trimmed_seqs = trim_paired(demuxed_seqs, cores=8,\n",
    "                           front_f=[\"AATGATACGGCGACCACCGAGATCTACACGCTNNNNNNNNNNNNTATGGTAATTGTGTGYCAGCMGCCGCGGTAA\"],\n",
    "                           front_r=[\"CAAGCAGAAGACGGCATACGAGATAGTCAGCCAGCCGGACTACNVGGGTWTCTAAT\"])\n",
    "\n",
    "trimmed_seqs.trimmed_sequences.save(\"dada2/trimmed_seqs.qza\")"
   ]
  },
  {
   "cell_type": "code",
   "execution_count": 13,
   "metadata": {},
   "outputs": [
    {
     "name": "stdout",
     "output_type": "stream",
     "text": [
      "Running external command line application(s). This may print messages to stdout and/or stderr.\n",
      "The command(s) being run are below. These commands cannot be manually re-run as they will depend on temporary files that no longer exist.\n",
      "\n",
      "Command: run_dada_paired.R /var/folders/k7/wbr70tj56_n4y6h66kszvm2r0000gq/T/tmpof_4hy2q/forward /var/folders/k7/wbr70tj56_n4y6h66kszvm2r0000gq/T/tmpof_4hy2q/reverse /var/folders/k7/wbr70tj56_n4y6h66kszvm2r0000gq/T/tmpof_4hy2q/output.tsv.biom /var/folders/k7/wbr70tj56_n4y6h66kszvm2r0000gq/T/tmpof_4hy2q/track.tsv /var/folders/k7/wbr70tj56_n4y6h66kszvm2r0000gq/T/tmpof_4hy2q/filt_f /var/folders/k7/wbr70tj56_n4y6h66kszvm2r0000gq/T/tmpof_4hy2q/filt_r 200 180 0 0 4 2 pooled 1.0 0 100000\n",
      "\n"
     ]
    },
    {
     "data": {
      "text/plain": [
       "'seqs.qza'"
      ]
     },
     "execution_count": 13,
     "metadata": {},
     "output_type": "execute_result"
    }
   ],
   "source": [
    "from qiime2 import Artifact\n",
    "from qiime2.plugins.dada2.methods import denoise_paired\n",
    "\n",
    "#trimmed_seqs = Artifact.load(\"dada2/trimmed_seqs.qza\")\n",
    "denoised = denoise_paired(trimmed_seqs, \n",
    "                         trunc_len_f = 200, trunc_len_r = 180,\n",
    "                         max_ee = 4,\n",
    "                         trunc_q = 2, chimera_method = \"pooled\",\n",
    "                         n_threads = 0, n_reads_learn = 100000)\n",
    "\n",
    "denoised.table.save(\"dada2/freqs.qza\")\n",
    "denoised.representative_sequences.save(\"dada2/seqs.qza\")\n"
   ]
  },
  {
   "cell_type": "code",
   "execution_count": 1,
   "metadata": {},
   "outputs": [
    {
     "data": {
      "text/html": [
       "<div><img onload=\"(function(div, url){\n",
       "if (typeof require !== 'undefined') {\n",
       "    var baseURL = require.toUrl('').split('/').slice(0, -2).join('/');\n",
       "} else {\n",
       "    var baseURL = JSON.parse(\n",
       "        document.getElementById('jupyter-config-data').innerHTML\n",
       "    ).baseUrl.slice(0, -1);\n",
       "}\n",
       "url = baseURL + url;\n",
       "fetch(url).then(function(res) {\n",
       "    if (res.status === 404) {\n",
       "        div.innerHTML = 'Install QIIME 2 Jupyter extension with:<br />' +\n",
       "                        '<code>jupyter serverextension enable --py qiime2' +\n",
       "                        ' --sys-prefix</code><br />then restart your server.' +\n",
       "                        '<br /><br />(Interactive output not available on ' +\n",
       "                        'static notebook viewer services like nbviewer.)';\n",
       "    } else if (res.status === 409) {\n",
       "        div.innerHTML = 'Visualization no longer in scope. Re-run this cell' +\n",
       "                        ' to see the visualization.';\n",
       "    } else if (res.ok) {\n",
       "        url = res.url;\n",
       "        div.innerHTML = '<iframe src=\\'' + url + '\\' style=\\'' +\n",
       "                        'width: 100%; height: 700px; border: 0;\\'>' +\n",
       "                        '</iframe><hr />Open in a: <a href=\\'' + url + '\\'' +\n",
       "                        ' target=\\'_blank\\'>new window</a>'\n",
       "    } else {\n",
       "        div.innerHTML = 'Something has gone wrong. Check notebook server for' +\n",
       "                        ' errors.';\n",
       "    }\n",
       "});\n",
       "})(this.parentElement, '/qiime2/redirect?location=/var/folders/k7/wbr70tj56_n4y6h66kszvm2r0000gq/T/qiime2-archive-g0d2b99r')\" src=\"data:image/gif;base64,R0lGODlhAQABAIAAAP///wAAACH5BAEAAAAALAAAAAABAAEAAAICRAEAOw==\" /></div>"
      ],
      "text/plain": [
       "<visualization: Visualization uuid: 2f55daa3-a92b-407f-b304-3221de414b71>"
      ]
     },
     "execution_count": 1,
     "metadata": {},
     "output_type": "execute_result"
    }
   ],
   "source": [
    "from qiime2 import Artifact\n",
    "from qiime2.plugins import feature_table\n",
    "table = Artifact.load(\"freqs.qza\")\n",
    "feat_tab = feature_table.visualizers.summarize(table)\n",
    "feat_tab.visualization"
   ]
  },
  {
   "cell_type": "code",
   "execution_count": 3,
   "metadata": {},
   "outputs": [
    {
     "name": "stdout",
     "output_type": "stream",
     "text": [
      "Running external command line application. This may print messages to stdout and/or stderr.\n",
      "The command being run is below. This command cannot be manually re-run as it will depend on temporary files that no longer exist.\n",
      "\n",
      "Command: vsearch --usearch_global /var/folders/k7/wbr70tj56_n4y6h66kszvm2r0000gq/T/tmpsyuvyxsl --id 0.97 --db /var/folders/k7/wbr70tj56_n4y6h66kszvm2r0000gq/T/qiime2-archive-t3fxfw9u/30ff8d4b-5973-4230-b69c-a8c5504bf428/data/dna-sequences.fasta --uc /var/folders/k7/wbr70tj56_n4y6h66kszvm2r0000gq/T/tmp5gi4w8sc --strand both --qmask none --notmatched /var/folders/k7/wbr70tj56_n4y6h66kszvm2r0000gq/T/tmpoxyqslio --threads 8\n",
      "\n",
      "Running external command line application. This may print messages to stdout and/or stderr.\n",
      "The command being run is below. This command cannot be manually re-run as it will depend on temporary files that no longer exist.\n",
      "\n",
      "Command: vsearch --sortbysize /var/folders/k7/wbr70tj56_n4y6h66kszvm2r0000gq/T/tmpoxyqslio --xsize --output /var/folders/k7/wbr70tj56_n4y6h66kszvm2r0000gq/T/q2-DNAFASTAFormat-xi6g7hrw\n",
      "\n",
      "Running external command line application. This may print messages to stdout and/or stderr.\n",
      "The command being run is below. This command cannot be manually re-run as it will depend on temporary files that no longer exist.\n",
      "\n",
      "Command: vsearch --cluster_size /var/folders/k7/wbr70tj56_n4y6h66kszvm2r0000gq/T/tmpfgwycs9x --id 0.97 --centroids /var/folders/k7/wbr70tj56_n4y6h66kszvm2r0000gq/T/q2-DNAFASTAFormat-lc7_rth0 --uc /var/folders/k7/wbr70tj56_n4y6h66kszvm2r0000gq/T/tmpvi5re3jm --qmask none --xsize --threads 8\n",
      "\n"
     ]
    }
   ],
   "source": [
    "from qiime2.plugins.vsearch.pipelines import cluster_features_open_reference\n",
    "from qiime2 import Artifact\n",
    "\n",
    "table = Artifact.load(\"dada2/freqs.qza\")\n",
    "seqs = Artifact.load(\"dada2/seqs.qza\")\n",
    "otus_97 = Artifact.load(\"97_otus.qza\")\n",
    "clustered_tab = cluster_features_open_reference(table=table, sequences=seqs, \n",
    "                                                reference_sequences=otus_97, perc_identity=0.97, strand=\"both\", threads=8)"
   ]
  },
  {
   "cell_type": "code",
   "execution_count": 5,
   "metadata": {},
   "outputs": [
    {
     "data": {
      "text/plain": [
       "'dada2/otu_sequences.qza'"
      ]
     },
     "execution_count": 5,
     "metadata": {},
     "output_type": "execute_result"
    }
   ],
   "source": [
    "clustered_tab.clustered_table.save(\"dada2/clustered_tab.qza\")\n",
    "clustered_tab.clustered_sequences.save(\"dada2/otu_sequences.qza\")"
   ]
  },
  {
   "cell_type": "code",
   "execution_count": 6,
   "metadata": {},
   "outputs": [
    {
     "data": {
      "text/html": [
       "<div><img onload=\"(function(div, url){\n",
       "if (typeof require !== 'undefined') {\n",
       "    var baseURL = require.toUrl('').split('/').slice(0, -2).join('/');\n",
       "} else {\n",
       "    var baseURL = JSON.parse(\n",
       "        document.getElementById('jupyter-config-data').innerHTML\n",
       "    ).baseUrl.slice(0, -1);\n",
       "}\n",
       "url = baseURL + url;\n",
       "fetch(url).then(function(res) {\n",
       "    if (res.status === 404) {\n",
       "        div.innerHTML = 'Install QIIME 2 Jupyter extension with:<br />' +\n",
       "                        '<code>jupyter serverextension enable --py qiime2' +\n",
       "                        ' --sys-prefix</code><br />then restart your server.' +\n",
       "                        '<br /><br />(Interactive output not available on ' +\n",
       "                        'static notebook viewer services like nbviewer.)';\n",
       "    } else if (res.status === 409) {\n",
       "        div.innerHTML = 'Visualization no longer in scope. Re-run this cell' +\n",
       "                        ' to see the visualization.';\n",
       "    } else if (res.ok) {\n",
       "        url = res.url;\n",
       "        div.innerHTML = '<iframe src=\\'' + url + '\\' style=\\'' +\n",
       "                        'width: 100%; height: 700px; border: 0;\\'>' +\n",
       "                        '</iframe><hr />Open in a: <a href=\\'' + url + '\\'' +\n",
       "                        ' target=\\'_blank\\'>new window</a>'\n",
       "    } else {\n",
       "        div.innerHTML = 'Something has gone wrong. Check notebook server for' +\n",
       "                        ' errors.';\n",
       "    }\n",
       "});\n",
       "})(this.parentElement, '/qiime2/redirect?location=/var/folders/k7/wbr70tj56_n4y6h66kszvm2r0000gq/T/qiime2-archive-6mz0eff1')\" src=\"data:image/gif;base64,R0lGODlhAQABAIAAAP///wAAACH5BAEAAAAALAAAAAABAAEAAAICRAEAOw==\" /></div>"
      ],
      "text/plain": [
       "<visualization: Visualization uuid: 981c5085-2970-4b36-b018-c3dbb8164066>"
      ]
     },
     "execution_count": 6,
     "metadata": {},
     "output_type": "execute_result"
    }
   ],
   "source": [
    "from qiime2 import Artifact\n",
    "from qiime2.plugins import feature_table\n",
    "table = Artifact.load(\"dada2/clustered_tab.qza\")\n",
    "feat_tab = feature_table.visualizers.summarize(table)\n",
    "feat_tab.visualization"
   ]
  },
  {
   "cell_type": "markdown",
   "metadata": {},
   "source": [
    "## Taxonomy Assignment"
   ]
  },
  {
   "cell_type": "code",
   "execution_count": 10,
   "metadata": {},
   "outputs": [
    {
     "name": "stdout",
     "output_type": "stream",
     "text": [
      "Imported gg_13_8_otus/taxonomy/97_otu_taxonomy.txt as HeaderlessTSVTaxonomyFormat to ref-taxonomy.qza\n"
     ]
    }
   ],
   "source": [
    "%%bash\n",
    "qiime tools import --type 'FeatureData[Taxonomy]' --input-format HeaderlessTSVTaxonomyFormat  --input-path gg_13_8_otus/taxonomy/97_otu_taxonomy.txt --output-path ref-taxonomy.qza"
   ]
  },
  {
   "cell_type": "code",
   "execution_count": 14,
   "metadata": {},
   "outputs": [
    {
     "name": "stderr",
     "output_type": "stream",
     "text": [
      "/Users/haneylab/miniconda3/envs/qiime2-2019.1/lib/python3.6/site-packages/q2_feature_classifier/classifier.py:101: UserWarning: The TaxonomicClassifier artifact that results from this method was trained using scikit-learn version 0.20.2. It cannot be used with other versions of scikit-learn. (While the classifier may complete successfully, the results will be unreliable.)\n",
      "  warnings.warn(warning, UserWarning)\n"
     ]
    },
    {
     "data": {
      "text/plain": [
       "'dada2/nbclass.qza'"
      ]
     },
     "execution_count": 14,
     "metadata": {},
     "output_type": "execute_result"
    }
   ],
   "source": [
    "from qiime2 import Artifact\n",
    "from qiime2.plugins import feature_classifier\n",
    "\n",
    "otus_97 = Artifact.load(\"97_otus.qza\")\n",
    "ref_tax = Artifact.load(\"ref-taxonomy.qza\")\n",
    "\n",
    "extracted_seqs = feature_classifier.methods.extract_reads(sequences = otus_97,\n",
    "                                                         f_primer = \"GTGYCAGCMGCCGCGGTAA\",\n",
    "                                                         r_primer = \"GGACTACNVGGGTWTCTAAT\",\n",
    "                                                         max_length = 400,\n",
    "                                                         min_length = 100)\n",
    "\n",
    "classify = feature_classifier.methods.fit_classifier_naive_bayes(extracted_seqs.reads, ref_tax)\n",
    "classify.classifier.save(\"dada2/nbclass.qza\")"
   ]
  },
  {
   "cell_type": "code",
   "execution_count": 27,
   "metadata": {},
   "outputs": [
    {
     "data": {
      "text/plain": [
       "'dada2/tax_table.qza'"
      ]
     },
     "execution_count": 27,
     "metadata": {},
     "output_type": "execute_result"
    }
   ],
   "source": [
    "from qiime2 import Artifact\n",
    "from qiime2.plugins.feature_classifier.methods import classify_sklearn\n",
    "\n",
    "classifier = Artifact.load(\"dada2/nbclass.qza\")\n",
    "seqs = Artifact.load(\"dada2/otu_sequences.qza\")\n",
    "\n",
    "\n",
    "tax_tab = classify_sklearn(seqs, classifier, n_jobs = -1)\n",
    "tax_tab.classification.save(\"dada2/tax_table.qza\")"
   ]
  },
  {
   "cell_type": "code",
   "execution_count": 28,
   "metadata": {},
   "outputs": [
    {
     "name": "stdout",
     "output_type": "stream",
     "text": [
      "Exported dada2/clustered_tab.qza as BIOMV210DirFmt to directory phyloseq\n",
      "Exported dada2/seqs.qza as DNASequencesDirectoryFormat to directory phyloseq\n",
      "Exported dada2/tax_table.qza as TSVTaxonomyDirectoryFormat to directory phyloseq\n"
     ]
    }
   ],
   "source": [
    "%%bash\n",
    "#export otu table\n",
    "qiime tools export --input-path dada2/clustered_tab.qza --output-path phyloseq\n",
    "biom convert --to-tsv -i phyloseq/feature-table.biom -o phyloseq/otu_table.tsv\n",
    "\n",
    "#export sequences\n",
    "qiime tools export --input-path dada2/seqs.qza --output-path phyloseq\n",
    "\n",
    "#export taxonomy\n",
    "qiime tools export --input-path dada2/tax_table.qza --output-path phyloseq\n"
   ]
  }
 ],
 "metadata": {
  "kernelspec": {
   "display_name": "Python 3",
   "language": "python",
   "name": "python3"
  },
  "language_info": {
   "codemirror_mode": {
    "name": "ipython",
    "version": 3
   },
   "file_extension": ".py",
   "mimetype": "text/x-python",
   "name": "python",
   "nbconvert_exporter": "python",
   "pygments_lexer": "ipython3",
   "version": "3.7.2"
  }
 },
 "nbformat": 4,
 "nbformat_minor": 2
}
